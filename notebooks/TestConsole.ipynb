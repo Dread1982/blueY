{
 "metadata": {
  "name": ""
 },
 "nbformat": 3,
 "nbformat_minor": 0,
 "worksheets": [
  {
   "cells": [
    {
     "cell_type": "code",
     "collapsed": false,
     "input": [
      "a = 1"
     ],
     "language": "python",
     "metadata": {},
     "outputs": [],
     "prompt_number": 1
    },
    {
     "cell_type": "code",
     "collapsed": false,
     "input": [
      "a"
     ],
     "language": "python",
     "metadata": {},
     "outputs": [
      {
       "metadata": {},
       "output_type": "pyout",
       "prompt_number": 2,
       "text": [
        "1"
       ]
      }
     ],
     "prompt_number": 2
    },
    {
     "cell_type": "code",
     "collapsed": false,
     "input": [
      "from"
     ],
     "language": "python",
     "metadata": {},
     "outputs": [
      {
       "ename": "NameError",
       "evalue": "name 'pandas' is not defined",
       "output_type": "pyerr",
       "traceback": [
        "\u001b[1;31m---------------------------------------------------------------------------\u001b[0m\n\u001b[1;31mNameError\u001b[0m                                 Traceback (most recent call last)",
        "\u001b[1;32m<ipython-input-3-2f19884f1459>\u001b[0m in \u001b[0;36m<module>\u001b[1;34m()\u001b[0m\n\u001b[1;32m----> 1\u001b[1;33m \u001b[0mpandas\u001b[0m\u001b[1;33m\u001b[0m\u001b[0m\n\u001b[0m",
        "\u001b[1;31mNameError\u001b[0m: name 'pandas' is not defined"
       ]
      }
     ],
     "prompt_number": 3
    },
    {
     "cell_type": "code",
     "collapsed": false,
     "input": [
      "a"
     ],
     "language": "python",
     "metadata": {},
     "outputs": [
      {
       "metadata": {},
       "output_type": "pyout",
       "prompt_number": 4,
       "text": [
        "1"
       ]
      }
     ],
     "prompt_number": 4
    },
    {
     "cell_type": "code",
     "collapsed": false,
     "input": [
      "t = (2,3,4)\n",
      "lis = [2,3,4,3]\n",
      "s = set(lis)\n",
      "s"
     ],
     "language": "python",
     "metadata": {},
     "outputs": [
      {
       "metadata": {},
       "output_type": "pyout",
       "prompt_number": 7,
       "text": [
        "{2, 3, 4}"
       ]
      }
     ],
     "prompt_number": 7
    },
    {
     "cell_type": "code",
     "collapsed": false,
     "input": [
      "abs(-1)"
     ],
     "language": "python",
     "metadata": {},
     "outputs": [
      {
       "metadata": {},
       "output_type": "pyout",
       "prompt_number": 8,
       "text": [
        "1"
       ]
      }
     ],
     "prompt_number": 8
    },
    {
     "cell_type": "code",
     "collapsed": false,
     "input": [
      "abs(-1)"
     ],
     "language": "python",
     "metadata": {},
     "outputs": [
      {
       "metadata": {},
       "output_type": "pyout",
       "prompt_number": 9,
       "text": [
        "1"
       ]
      }
     ],
     "prompt_number": 9
    },
    {
     "cell_type": "code",
     "collapsed": false,
     "input": [
      "abs(-1)"
     ],
     "language": "python",
     "metadata": {},
     "outputs": [
      {
       "metadata": {},
       "output_type": "pyout",
       "prompt_number": 10,
       "text": [
        "1"
       ]
      }
     ],
     "prompt_number": 10
    },
    {
     "cell_type": "code",
     "collapsed": false,
     "input": [],
     "language": "python",
     "metadata": {},
     "outputs": []
    },
    {
     "cell_type": "code",
     "collapsed": false,
     "input": [
      "s"
     ],
     "language": "python",
     "metadata": {},
     "outputs": [
      {
       "metadata": {},
       "output_type": "pyout",
       "prompt_number": 12,
       "text": [
        "{2, 3, 4}"
       ]
      }
     ],
     "prompt_number": 12
    },
    {
     "cell_type": "code",
     "collapsed": false,
     "input": [
      "s"
     ],
     "language": "python",
     "metadata": {},
     "outputs": [
      {
       "metadata": {},
       "output_type": "pyout",
       "prompt_number": 13,
       "text": [
        "{2, 3, 4}"
       ]
      }
     ],
     "prompt_number": 13
    },
    {
     "cell_type": "code",
     "collapsed": false,
     "input": [
      "s"
     ],
     "language": "python",
     "metadata": {},
     "outputs": [
      {
       "metadata": {},
       "output_type": "pyout",
       "prompt_number": 14,
       "text": [
        "{2, 3, 4}"
       ]
      }
     ],
     "prompt_number": 14
    },
    {
     "cell_type": "code",
     "collapsed": false,
     "input": [
      "s"
     ],
     "language": "python",
     "metadata": {},
     "outputs": [
      {
       "metadata": {},
       "output_type": "pyout",
       "prompt_number": 15,
       "text": [
        "{2, 3, 4}"
       ]
      }
     ],
     "prompt_number": 15
    },
    {
     "cell_type": "code",
     "collapsed": false,
     "input": [
      "s"
     ],
     "language": "python",
     "metadata": {},
     "outputs": [
      {
       "metadata": {},
       "output_type": "pyout",
       "prompt_number": 16,
       "text": [
        "{2, 3, 4}"
       ]
      }
     ],
     "prompt_number": 16
    },
    {
     "cell_type": "code",
     "collapsed": false,
     "input": [
      "s"
     ],
     "language": "python",
     "metadata": {},
     "outputs": [
      {
       "metadata": {},
       "output_type": "pyout",
       "prompt_number": 17,
       "text": [
        "{2, 3, 4}"
       ]
      }
     ],
     "prompt_number": 17
    },
    {
     "cell_type": "code",
     "collapsed": false,
     "input": [
      "tel ={}\n",
      "tel['a'] = 12\n",
      "tel"
     ],
     "language": "python",
     "metadata": {},
     "outputs": [
      {
       "metadata": {},
       "output_type": "pyout",
       "prompt_number": 18,
       "text": [
        "{'a': 12}"
       ]
      }
     ],
     "prompt_number": 18
    },
    {
     "cell_type": "code",
     "collapsed": false,
     "input": [
      "tel.keys()"
     ],
     "language": "python",
     "metadata": {},
     "outputs": [
      {
       "metadata": {},
       "output_type": "pyout",
       "prompt_number": 19,
       "text": [
        "['a']"
       ]
      }
     ],
     "prompt_number": 19
    },
    {
     "cell_type": "code",
     "collapsed": false,
     "input": [
      "'a' in tel"
     ],
     "language": "python",
     "metadata": {},
     "outputs": [
      {
       "metadata": {},
       "output_type": "pyout",
       "prompt_number": 24,
       "text": [
        "True"
       ]
      }
     ],
     "prompt_number": 24
    },
    {
     "cell_type": "code",
     "collapsed": false,
     "input": [
      "di ={x: x*2 for x in (1,4,5)}"
     ],
     "language": "python",
     "metadata": {},
     "outputs": [],
     "prompt_number": 26
    },
    {
     "cell_type": "code",
     "collapsed": false,
     "input": [
      "di"
     ],
     "language": "python",
     "metadata": {},
     "outputs": [
      {
       "metadata": {},
       "output_type": "pyout",
       "prompt_number": 27,
       "text": [
        "{1: 2, 4: 8, 5: 10}"
       ]
      }
     ],
     "prompt_number": 27
    },
    {
     "cell_type": "code",
     "collapsed": false,
     "input": [
      "di.keys()"
     ],
     "language": "python",
     "metadata": {},
     "outputs": [
      {
       "metadata": {},
       "output_type": "pyout",
       "prompt_number": 28,
       "text": [
        "[1, 4, 5]"
       ]
      }
     ],
     "prompt_number": 28
    },
    {
     "cell_type": "code",
     "collapsed": false,
     "input": [
      "(1,2) > (1)"
     ],
     "language": "python",
     "metadata": {},
     "outputs": [
      {
       "metadata": {},
       "output_type": "pyout",
       "prompt_number": 34,
       "text": [
        "True"
       ]
      }
     ],
     "prompt_number": 34
    },
    {
     "cell_type": "code",
     "collapsed": false,
     "input": [
      "# Fibonacci numbers module\n",
      "\n",
      "def fib(n):    # write Fibonacci series up to n\n",
      "    a, b = 0, 1\n",
      "    while b < n:\n",
      "        print b,\n",
      "        a, b = b, a+b\n",
      "\n",
      "def fib2(n): # return Fibonacci series up to n\n",
      "    result = []\n",
      "    a, b = 0, 1\n",
      "    while b < n:\n",
      "        result.append(b)\n",
      "        a, b = b, a+b\n",
      "    return result"
     ],
     "language": "python",
     "metadata": {},
     "outputs": [],
     "prompt_number": 37
    },
    {
     "cell_type": "code",
     "collapsed": false,
     "input": [
      "fib2(3)"
     ],
     "language": "python",
     "metadata": {},
     "outputs": [
      {
       "metadata": {},
       "output_type": "pyout",
       "prompt_number": 39,
       "text": [
        "[1, 1, 2]"
       ]
      }
     ],
     "prompt_number": 39
    },
    {
     "cell_type": "code",
     "collapsed": false,
     "input": [
      "import math"
     ],
     "language": "python",
     "metadata": {},
     "outputs": [],
     "prompt_number": 43
    },
    {
     "cell_type": "code",
     "collapsed": false,
     "input": [
      "math.pi"
     ],
     "language": "python",
     "metadata": {},
     "outputs": [
      {
       "metadata": {},
       "output_type": "pyout",
       "prompt_number": 45,
       "text": [
        "3.141592653589793"
       ]
      }
     ],
     "prompt_number": 45
    },
    {
     "cell_type": "code",
     "collapsed": false,
     "input": [
      "import json"
     ],
     "language": "python",
     "metadata": {},
     "outputs": [],
     "prompt_number": 47
    },
    {
     "cell_type": "code",
     "collapsed": false,
     "input": [
      "j = json.dumps([1,2])"
     ],
     "language": "python",
     "metadata": {},
     "outputs": [],
     "prompt_number": 50
    },
    {
     "cell_type": "code",
     "collapsed": false,
     "input": [
      "j"
     ],
     "language": "python",
     "metadata": {},
     "outputs": [
      {
       "metadata": {},
       "output_type": "pyout",
       "prompt_number": 52,
       "text": [
        "'[1, 2]'"
       ]
      }
     ],
     "prompt_number": 52
    },
    {
     "cell_type": "code",
     "collapsed": false,
     "input": [
      "dict = {'a':1}"
     ],
     "language": "python",
     "metadata": {},
     "outputs": [],
     "prompt_number": 54
    },
    {
     "cell_type": "code",
     "collapsed": false,
     "input": [
      "dict['b'] = 2"
     ],
     "language": "python",
     "metadata": {},
     "outputs": [],
     "prompt_number": 56
    },
    {
     "cell_type": "code",
     "collapsed": false,
     "input": [
      "json.dumps(dict)"
     ],
     "language": "python",
     "metadata": {},
     "outputs": [
      {
       "metadata": {},
       "output_type": "pyout",
       "prompt_number": 58,
       "text": [
        "'{\"a\": 1, \"b\": 2}'"
       ]
      }
     ],
     "prompt_number": 58
    },
    {
     "cell_type": "code",
     "collapsed": false,
     "input": [
      "dict"
     ],
     "language": "python",
     "metadata": {},
     "outputs": [
      {
       "metadata": {},
       "output_type": "pyout",
       "prompt_number": 59,
       "text": [
        "{'a': 1, 'b': 2}"
       ]
      }
     ],
     "prompt_number": 59
    },
    {
     "cell_type": "code",
     "collapsed": false,
     "input": [
      "help()"
     ],
     "language": "python",
     "metadata": {},
     "outputs": [
      {
       "output_type": "stream",
       "stream": "stdout",
       "text": [
        "\n",
        "Welcome to Python 2.7!  This is the online help utility.\n",
        "\n",
        "If this is your first time using Python, you should definitely check out\n",
        "the tutorial on the Internet at http://docs.python.org/2.7/tutorial/.\n",
        "\n",
        "Enter the name of any module, keyword, or topic to get help on writing\n",
        "Python programs and using Python modules.  To quit this help utility and\n",
        "return to the interpreter, just type \"quit\".\n",
        "\n",
        "To get a list of available modules, keywords, or topics, type \"modules\",\n",
        "\"keywords\", or \"topics\".  Each module also comes with a one-line summary\n",
        "of what it does; to list the modules whose summaries contain a given word\n",
        "such as \"spam\", type \"modules spam\".\n",
        "\n"
       ]
      },
      {
       "name": "stdout",
       "output_type": "stream",
       "stream": "stdout",
       "text": [
        "help> math\n"
       ]
      },
      {
       "output_type": "stream",
       "stream": "stdout",
       "text": [
        "Help on built-in module math:\n",
        "\n",
        "NAME\n",
        "    math\n",
        "\n",
        "FILE\n",
        "    (built-in)\n",
        "\n",
        "DESCRIPTION\n",
        "    This module is always available.  It provides access to the\n",
        "    mathematical functions defined by the C standard.\n",
        "\n",
        "FUNCTIONS\n",
        "    acos(...)\n",
        "        acos(x)\n",
        "        \n",
        "        Return the arc cosine (measured in radians) of x.\n",
        "    \n",
        "    acosh(...)\n",
        "        acosh(x)\n",
        "        \n",
        "        Return the hyperbolic arc cosine (measured in radians) of x.\n",
        "    \n",
        "    asin(...)\n",
        "        asin(x)\n",
        "        \n",
        "        Return the arc sine (measured in radians) of x.\n",
        "    \n",
        "    asinh(...)\n",
        "        asinh(x)\n",
        "        \n",
        "        Return the hyperbolic arc sine (measured in radians) of x.\n",
        "    \n",
        "    atan(...)\n",
        "        atan(x)\n",
        "        \n",
        "        Return the arc tangent (measured in radians) of x.\n",
        "    \n",
        "    atan2(...)\n",
        "        atan2(y, x)\n",
        "        \n",
        "        Return the arc tangent (measured in radians) of y/x.\n",
        "        Unlike atan(y/x), the signs of both x and y are considered.\n",
        "    \n",
        "    atanh(...)\n",
        "        atanh(x)\n",
        "        \n",
        "        Return the hyperbolic arc tangent (measured in radians) of x.\n",
        "    \n",
        "    ceil(...)\n",
        "        ceil(x)\n",
        "        \n",
        "        Return the ceiling of x as a float.\n",
        "        This is the smallest integral value >= x.\n",
        "    \n",
        "    copysign(...)\n",
        "        copysign(x, y)\n",
        "        \n",
        "        Return x with the sign of y.\n",
        "    \n",
        "    cos(...)\n",
        "        cos(x)\n",
        "        \n",
        "        Return the cosine of x (measured in radians).\n",
        "    \n",
        "    cosh(...)\n",
        "        cosh(x)\n",
        "        \n",
        "        Return the hyperbolic cosine of x.\n",
        "    \n",
        "    degrees(...)\n",
        "        degrees(x)\n",
        "        \n",
        "        Convert angle x from radians to degrees.\n",
        "    \n",
        "    erf(...)\n",
        "        erf(x)\n",
        "        \n",
        "        Error function at x.\n",
        "    \n",
        "    erfc(...)\n",
        "        erfc(x)\n",
        "        \n",
        "        Complementary error function at x.\n",
        "    \n",
        "    exp(...)\n",
        "        exp(x)\n",
        "        \n",
        "        Return e raised to the power of x.\n",
        "    \n",
        "    expm1(...)\n",
        "        expm1(x)\n",
        "        \n",
        "        Return exp(x)-1.\n",
        "        This function avoids the loss of precision involved in the direct evaluation of exp(x)-1 for small x.\n",
        "    \n",
        "    fabs(...)\n",
        "        fabs(x)\n",
        "        \n",
        "        Return the absolute value of the float x.\n",
        "    \n",
        "    factorial(...)\n",
        "        factorial(x) -> Integral\n",
        "        \n",
        "        Find x!. Raise a ValueError if x is negative or non-integral.\n",
        "    \n",
        "    floor(...)\n",
        "        floor(x)\n",
        "        \n",
        "        Return the floor of x as a float.\n",
        "        This is the largest integral value <= x.\n",
        "    \n",
        "    fmod(...)\n",
        "        fmod(x, y)\n",
        "        \n",
        "        Return fmod(x, y), according to platform C.  x % y may differ.\n",
        "    \n",
        "    frexp(...)\n",
        "        frexp(x)\n",
        "        \n",
        "        Return the mantissa and exponent of x, as pair (m, e).\n",
        "        m is a float and e is an int, such that x = m * 2.**e.\n",
        "        If x is 0, m and e are both 0.  Else 0.5 <= abs(m) < 1.0.\n",
        "    \n",
        "    fsum(...)\n",
        "        fsum(iterable)\n",
        "        \n",
        "        Return an accurate floating point sum of values in the iterable.\n",
        "        Assumes IEEE-754 floating point arithmetic.\n",
        "    \n",
        "    gamma(...)\n",
        "        gamma(x)\n",
        "        \n",
        "        Gamma function at x.\n",
        "    \n",
        "    hypot(...)\n",
        "        hypot(x, y)\n",
        "        \n",
        "        Return the Euclidean distance, sqrt(x*x + y*y).\n",
        "    \n",
        "    isinf(...)\n",
        "        isinf(x) -> bool\n",
        "        \n",
        "        Check if float x is infinite (positive or negative).\n",
        "    \n",
        "    isnan(...)\n",
        "        isnan(x) -> bool\n",
        "        \n",
        "        Check if float x is not a number (NaN).\n",
        "    \n",
        "    ldexp(...)\n",
        "        ldexp(x, i)\n",
        "        \n",
        "        Return x * (2**i).\n",
        "    \n",
        "    lgamma(...)\n",
        "        lgamma(x)\n",
        "        \n",
        "        Natural logarithm of absolute value of Gamma function at x.\n",
        "    \n",
        "    log(...)\n",
        "        log(x[, base])\n",
        "        \n",
        "        Return the logarithm of x to the given base.\n",
        "        If the base not specified, returns the natural logarithm (base e) of x.\n",
        "    \n",
        "    log10(...)\n",
        "        log10(x)\n",
        "        \n",
        "        Return the base 10 logarithm of x.\n",
        "    \n",
        "    log1p(...)\n",
        "        log1p(x)\n",
        "        \n",
        "        Return the natural logarithm of 1+x (base e).\n",
        "        The result is computed in a way which is accurate for x near zero.\n",
        "    \n",
        "    modf(...)\n",
        "        modf(x)\n",
        "        \n",
        "        Return the fractional and integer parts of x.  Both results carry the sign\n",
        "        of x and are floats.\n",
        "    \n",
        "    pow(...)\n",
        "        pow(x, y)\n",
        "        \n",
        "        Return x**y (x to the power of y).\n",
        "    \n",
        "    radians(...)\n",
        "        radians(x)\n",
        "        \n",
        "        Convert angle x from degrees to radians.\n",
        "    \n",
        "    sin(...)\n",
        "        sin(x)\n",
        "        \n",
        "        Return the sine of x (measured in radians).\n",
        "    \n",
        "    sinh(...)\n",
        "        sinh(x)\n",
        "        \n",
        "        Return the hyperbolic sine of x.\n",
        "    \n",
        "    sqrt(...)\n",
        "        sqrt(x)\n",
        "        \n",
        "        Return the square root of x.\n",
        "    \n",
        "    tan(...)\n",
        "        tan(x)\n",
        "        \n",
        "        Return the tangent of x (measured in radians).\n",
        "    \n",
        "    tanh(...)\n",
        "        tanh(x)\n",
        "        \n",
        "        Return the hyperbolic tangent of x.\n",
        "    \n",
        "    trunc(...)\n",
        "        trunc(x:Real) -> Integral\n",
        "        \n",
        "        Truncates x to the nearest Integral toward 0. Uses the __trunc__ magic method.\n",
        "\n",
        "DATA\n",
        "    e = 2.718281828459045\n",
        "    pi = 3.141592653589793\n",
        "\n",
        "\n"
       ]
      },
      {
       "name": "stdout",
       "output_type": "stream",
       "stream": "stdout",
       "text": [
        "help> quit\n"
       ]
      },
      {
       "output_type": "stream",
       "stream": "stdout",
       "text": [
        "\n",
        "You are now leaving help and returning to the Python interpreter.\n",
        "If you want to ask for help on a particular object directly from the\n",
        "interpreter, you can type \"help(object)\".  Executing \"help('string')\"\n",
        "has the same effect as typing a particular string at the help> prompt.\n"
       ]
      }
     ],
     "prompt_number": 60
    },
    {
     "cell_type": "code",
     "collapsed": false,
     "input": [
      "class Test:\n",
      "    num = 2\n",
      "    def __init__(self,x):\n",
      "        self.num = x\n",
      "    \n",
      "    def summe(self, x,y):\n",
      "        return x + y"
     ],
     "language": "python",
     "metadata": {},
     "outputs": [],
     "prompt_number": 83
    },
    {
     "cell_type": "code",
     "collapsed": false,
     "input": [
      "t = Test(3)"
     ],
     "language": "python",
     "metadata": {},
     "outputs": [],
     "prompt_number": 84
    },
    {
     "cell_type": "code",
     "collapsed": false,
     "input": [
      "t.num"
     ],
     "language": "python",
     "metadata": {},
     "outputs": [
      {
       "metadata": {},
       "output_type": "pyout",
       "prompt_number": 81,
       "text": [
        "3"
       ]
      }
     ],
     "prompt_number": 81
    },
    {
     "cell_type": "code",
     "collapsed": false,
     "input": [
      "t.summe(3,8)"
     ],
     "language": "python",
     "metadata": {},
     "outputs": [
      {
       "metadata": {},
       "output_type": "pyout",
       "prompt_number": 85,
       "text": [
        "11"
       ]
      }
     ],
     "prompt_number": 85
    },
    {
     "cell_type": "code",
     "collapsed": false,
     "input": [
      "isinstance('3',str)"
     ],
     "language": "python",
     "metadata": {},
     "outputs": [
      {
       "metadata": {},
       "output_type": "pyout",
       "prompt_number": 91,
       "text": [
        "True"
       ]
      }
     ],
     "prompt_number": 91
    },
    {
     "cell_type": "code",
     "collapsed": false,
     "input": [
      "print ('a')"
     ],
     "language": "python",
     "metadata": {},
     "outputs": [
      {
       "output_type": "stream",
       "stream": "stdout",
       "text": [
        "a\n"
       ]
      }
     ],
     "prompt_number": 93
    },
    {
     "cell_type": "code",
     "collapsed": false,
     "input": [
      "import os"
     ],
     "language": "python",
     "metadata": {},
     "outputs": [],
     "prompt_number": 94
    },
    {
     "cell_type": "code",
     "collapsed": false,
     "input": [
      "help(os)"
     ],
     "language": "python",
     "metadata": {},
     "outputs": [
      {
       "output_type": "stream",
       "stream": "stdout",
       "text": [
        "Help on module os:\n",
        "\n",
        "NAME\n",
        "    os - OS routines for Mac, NT, or Posix depending on what system we're on.\n",
        "\n",
        "FILE\n",
        "    c:\\users\\manuel\\anaconda\\lib\\os.py\n",
        "\n",
        "DESCRIPTION\n",
        "    This exports:\n",
        "      - all functions from posix, nt, os2, or ce, e.g. unlink, stat, etc.\n",
        "      - os.path is one of the modules posixpath, or ntpath\n",
        "      - os.name is 'posix', 'nt', 'os2', 'ce' or 'riscos'\n",
        "      - os.curdir is a string representing the current directory ('.' or ':')\n",
        "      - os.pardir is a string representing the parent directory ('..' or '::')\n",
        "      - os.sep is the (or a most common) pathname separator ('/' or ':' or '\\\\')\n",
        "      - os.extsep is the extension separator ('.' or '/')\n",
        "      - os.altsep is the alternate pathname separator (None or '/')\n",
        "      - os.pathsep is the component separator used in $PATH etc\n",
        "      - os.linesep is the line separator in text files ('\\r' or '\\n' or '\\r\\n')\n",
        "      - os.defpath is the default search path for executables\n",
        "      - os.devnull is the file path of the null device ('/dev/null', etc.)\n",
        "    \n",
        "    Programs that import and use 'os' stand a better chance of being\n",
        "    portable between different platforms.  Of course, they must then\n",
        "    only use functions that are defined by all platforms (e.g., unlink\n",
        "    and opendir), and leave all pathname manipulation to os.path\n",
        "    (e.g., split and join).\n",
        "\n",
        "CLASSES\n",
        "    __builtin__.object\n",
        "        nt.stat_result\n",
        "        nt.statvfs_result\n",
        "    exceptions.EnvironmentError(exceptions.StandardError)\n",
        "        exceptions.OSError\n",
        "    \n",
        "    error = class OSError(EnvironmentError)\n",
        "     |  OS system call failed.\n",
        "     |  \n",
        "     |  Method resolution order:\n",
        "     |      OSError\n",
        "     |      EnvironmentError\n",
        "     |      StandardError\n",
        "     |      Exception\n",
        "     |      BaseException\n",
        "     |      __builtin__.object\n",
        "     |  \n",
        "     |  Methods defined here:\n",
        "     |  \n",
        "     |  __init__(...)\n",
        "     |      x.__init__(...) initializes x; see help(type(x)) for signature\n",
        "     |  \n",
        "     |  ----------------------------------------------------------------------\n",
        "     |  Data and other attributes defined here:\n",
        "     |  \n",
        "     |  __new__ = <built-in method __new__ of type object>\n",
        "     |      T.__new__(S, ...) -> a new object with type S, a subtype of T\n",
        "     |  \n",
        "     |  ----------------------------------------------------------------------\n",
        "     |  Methods inherited from EnvironmentError:\n",
        "     |  \n",
        "     |  __reduce__(...)\n",
        "     |  \n",
        "     |  __str__(...)\n",
        "     |      x.__str__() <==> str(x)\n",
        "     |  \n",
        "     |  ----------------------------------------------------------------------\n",
        "     |  Data descriptors inherited from EnvironmentError:\n",
        "     |  \n",
        "     |  errno\n",
        "     |      exception errno\n",
        "     |  \n",
        "     |  filename\n",
        "     |      exception filename\n",
        "     |  \n",
        "     |  strerror\n",
        "     |      exception strerror\n",
        "     |  \n",
        "     |  ----------------------------------------------------------------------\n",
        "     |  Methods inherited from BaseException:\n",
        "     |  \n",
        "     |  __delattr__(...)\n",
        "     |      x.__delattr__('name') <==> del x.name\n",
        "     |  \n",
        "     |  __getattribute__(...)\n",
        "     |      x.__getattribute__('name') <==> x.name\n",
        "     |  \n",
        "     |  __getitem__(...)\n",
        "     |      x.__getitem__(y) <==> x[y]\n",
        "     |  \n",
        "     |  __getslice__(...)\n",
        "     |      x.__getslice__(i, j) <==> x[i:j]\n",
        "     |      \n",
        "     |      Use of negative indices is not supported.\n",
        "     |  \n",
        "     |  __repr__(...)\n",
        "     |      x.__repr__() <==> repr(x)\n",
        "     |  \n",
        "     |  __setattr__(...)\n",
        "     |      x.__setattr__('name', value) <==> x.name = value\n",
        "     |  \n",
        "     |  __setstate__(...)\n",
        "     |  \n",
        "     |  __unicode__(...)\n",
        "     |  \n",
        "     |  ----------------------------------------------------------------------\n",
        "     |  Data descriptors inherited from BaseException:\n",
        "     |  \n",
        "     |  __dict__\n",
        "     |  \n",
        "     |  args\n",
        "     |  \n",
        "     |  message\n",
        "    \n",
        "    class stat_result(__builtin__.object)\n",
        "     |  stat_result: Result from stat or lstat.\n",
        "     |  \n",
        "     |  This object may be accessed either as a tuple of\n",
        "     |    (mode, ino, dev, nlink, uid, gid, size, atime, mtime, ctime)\n",
        "     |  or via the attributes st_mode, st_ino, st_dev, st_nlink, st_uid, and so on.\n",
        "     |  \n",
        "     |  Posix/windows: If your platform supports st_blksize, st_blocks, st_rdev,\n",
        "     |  or st_flags, they are available as attributes only.\n",
        "     |  \n",
        "     |  See os.stat for more information.\n",
        "     |  \n",
        "     |  Methods defined here:\n",
        "     |  \n",
        "     |  __add__(...)\n",
        "     |      x.__add__(y) <==> x+y\n",
        "     |  \n",
        "     |  __contains__(...)\n",
        "     |      x.__contains__(y) <==> y in x\n",
        "     |  \n",
        "     |  __eq__(...)\n",
        "     |      x.__eq__(y) <==> x==y\n",
        "     |  \n",
        "     |  __ge__(...)\n",
        "     |      x.__ge__(y) <==> x>=y\n",
        "     |  \n",
        "     |  __getitem__(...)\n",
        "     |      x.__getitem__(y) <==> x[y]\n",
        "     |  \n",
        "     |  __getslice__(...)\n",
        "     |      x.__getslice__(i, j) <==> x[i:j]\n",
        "     |      \n",
        "     |      Use of negative indices is not supported.\n",
        "     |  \n",
        "     |  __gt__(...)\n",
        "     |      x.__gt__(y) <==> x>y\n",
        "     |  \n",
        "     |  __hash__(...)\n",
        "     |      x.__hash__() <==> hash(x)\n",
        "     |  \n",
        "     |  __le__(...)\n",
        "     |      x.__le__(y) <==> x<=y\n",
        "     |  \n",
        "     |  __len__(...)\n",
        "     |      x.__len__() <==> len(x)\n",
        "     |  \n",
        "     |  __lt__(...)\n",
        "     |      x.__lt__(y) <==> x<y\n",
        "     |  \n",
        "     |  __mul__(...)\n",
        "     |      x.__mul__(n) <==> x*n\n",
        "     |  \n",
        "     |  __ne__(...)\n",
        "     |      x.__ne__(y) <==> x!=y\n",
        "     |  \n",
        "     |  __reduce__(...)\n",
        "     |  \n",
        "     |  __repr__(...)\n",
        "     |      x.__repr__() <==> repr(x)\n",
        "     |  \n",
        "     |  __rmul__(...)\n",
        "     |      x.__rmul__(n) <==> n*x\n",
        "     |  \n",
        "     |  ----------------------------------------------------------------------\n",
        "     |  Data descriptors defined here:\n",
        "     |  \n",
        "     |  st_atime\n",
        "     |      time of last access\n",
        "     |  \n",
        "     |  st_ctime\n",
        "     |      time of last change\n",
        "     |  \n",
        "     |  st_dev\n",
        "     |      device\n",
        "     |  \n",
        "     |  st_gid\n",
        "     |      group ID of owner\n",
        "     |  \n",
        "     |  st_ino\n",
        "     |      inode\n",
        "     |  \n",
        "     |  st_mode\n",
        "     |      protection bits\n",
        "     |  \n",
        "     |  st_mtime\n",
        "     |      time of last modification\n",
        "     |  \n",
        "     |  st_nlink\n",
        "     |      number of hard links\n",
        "     |  \n",
        "     |  st_size\n",
        "     |      total size, in bytes\n",
        "     |  \n",
        "     |  st_uid\n",
        "     |      user ID of owner\n",
        "     |  \n",
        "     |  ----------------------------------------------------------------------\n",
        "     |  Data and other attributes defined here:\n",
        "     |  \n",
        "     |  __new__ = <built-in method __new__ of type object>\n",
        "     |      T.__new__(S, ...) -> a new object with type S, a subtype of T\n",
        "     |  \n",
        "     |  n_fields = 13\n",
        "     |  \n",
        "     |  n_sequence_fields = 10\n",
        "     |  \n",
        "     |  n_unnamed_fields = 3\n",
        "    \n",
        "    class statvfs_result(__builtin__.object)\n",
        "     |  statvfs_result: Result from statvfs or fstatvfs.\n",
        "     |  \n",
        "     |  This object may be accessed either as a tuple of\n",
        "     |    (bsize, frsize, blocks, bfree, bavail, files, ffree, favail, flag, namemax),\n",
        "     |  or via the attributes f_bsize, f_frsize, f_blocks, f_bfree, and so on.\n",
        "     |  \n",
        "     |  See os.statvfs for more information.\n",
        "     |  \n",
        "     |  Methods defined here:\n",
        "     |  \n",
        "     |  __add__(...)\n",
        "     |      x.__add__(y) <==> x+y\n",
        "     |  \n",
        "     |  __contains__(...)\n",
        "     |      x.__contains__(y) <==> y in x\n",
        "     |  \n",
        "     |  __eq__(...)\n",
        "     |      x.__eq__(y) <==> x==y\n",
        "     |  \n",
        "     |  __ge__(...)\n",
        "     |      x.__ge__(y) <==> x>=y\n",
        "     |  \n",
        "     |  __getitem__(...)\n",
        "     |      x.__getitem__(y) <==> x[y]\n",
        "     |  \n",
        "     |  __getslice__(...)\n",
        "     |      x.__getslice__(i, j) <==> x[i:j]\n",
        "     |      \n",
        "     |      Use of negative indices is not supported.\n",
        "     |  \n",
        "     |  __gt__(...)\n",
        "     |      x.__gt__(y) <==> x>y\n",
        "     |  \n",
        "     |  __hash__(...)\n",
        "     |      x.__hash__() <==> hash(x)\n",
        "     |  \n",
        "     |  __le__(...)\n",
        "     |      x.__le__(y) <==> x<=y\n",
        "     |  \n",
        "     |  __len__(...)\n",
        "     |      x.__len__() <==> len(x)\n",
        "     |  \n",
        "     |  __lt__(...)\n",
        "     |      x.__lt__(y) <==> x<y\n",
        "     |  \n",
        "     |  __mul__(...)\n",
        "     |      x.__mul__(n) <==> x*n\n",
        "     |  \n",
        "     |  __ne__(...)\n",
        "     |      x.__ne__(y) <==> x!=y\n",
        "     |  \n",
        "     |  __reduce__(...)\n",
        "     |  \n",
        "     |  __repr__(...)\n",
        "     |      x.__repr__() <==> repr(x)\n",
        "     |  \n",
        "     |  __rmul__(...)\n",
        "     |      x.__rmul__(n) <==> n*x\n",
        "     |  \n",
        "     |  ----------------------------------------------------------------------\n",
        "     |  Data descriptors defined here:\n",
        "     |  \n",
        "     |  f_bavail\n",
        "     |  \n",
        "     |  f_bfree\n",
        "     |  \n",
        "     |  f_blocks\n",
        "     |  \n",
        "     |  f_bsize\n",
        "     |  \n",
        "     |  f_favail\n",
        "     |  \n",
        "     |  f_ffree\n",
        "     |  \n",
        "     |  f_files\n",
        "     |  \n",
        "     |  f_flag\n",
        "     |  \n",
        "     |  f_frsize\n",
        "     |  \n",
        "     |  f_namemax\n",
        "     |  \n",
        "     |  ----------------------------------------------------------------------\n",
        "     |  Data and other attributes defined here:\n",
        "     |  \n",
        "     |  __new__ = <built-in method __new__ of type object>\n",
        "     |      T.__new__(S, ...) -> a new object with type S, a subtype of T\n",
        "     |  \n",
        "     |  n_fields = 10\n",
        "     |  \n",
        "     |  n_sequence_fields = 10\n",
        "     |  \n",
        "     |  n_unnamed_fields = 0\n",
        "\n",
        "FUNCTIONS\n",
        "    abort(...)\n",
        "        abort() -> does not return!\n",
        "        \n",
        "        Abort the interpreter immediately.  This 'dumps core' or otherwise fails\n",
        "        in the hardest way possible on the hosting operating system.\n",
        "    \n",
        "    access(...)\n",
        "        access(path, mode) -> True if granted, False otherwise\n",
        "        \n",
        "        Use the real uid/gid to test for access to a path.  Note that most\n",
        "        operations will use the effective uid/gid, therefore this routine can\n",
        "        be used in a suid/sgid environment to test if the invoking user has the\n",
        "        specified access to the path.  The mode argument can be F_OK to test\n",
        "        existence, or the inclusive-OR of R_OK, W_OK, and X_OK.\n",
        "    \n",
        "    chdir(...)\n",
        "        chdir(path)\n",
        "        \n",
        "        Change the current working directory to the specified path.\n",
        "    \n",
        "    chmod(...)\n",
        "        chmod(path, mode)\n",
        "        \n",
        "        Change the access permissions of a file.\n",
        "    \n",
        "    close(...)\n",
        "        close(fd)\n",
        "        \n",
        "        Close a file descriptor (for low level IO).\n",
        "    \n",
        "    closerange(...)\n",
        "        closerange(fd_low, fd_high)\n",
        "        \n",
        "        Closes all file descriptors in [fd_low, fd_high), ignoring errors.\n",
        "    \n",
        "    dup(...)\n",
        "        dup(fd) -> fd2\n",
        "        \n",
        "        Return a duplicate of a file descriptor.\n",
        "    \n",
        "    dup2(...)\n",
        "        dup2(old_fd, new_fd)\n",
        "        \n",
        "        Duplicate file descriptor.\n",
        "    \n",
        "    execl(file, *args)\n",
        "        execl(file, *args)\n",
        "        \n",
        "        Execute the executable file with argument list args, replacing the\n",
        "        current process.\n",
        "    \n",
        "    execle(file, *args)\n",
        "        execle(file, *args, env)\n",
        "        \n",
        "        Execute the executable file with argument list args and\n",
        "        environment env, replacing the current process.\n",
        "    \n",
        "    execlp(file, *args)\n",
        "        execlp(file, *args)\n",
        "        \n",
        "        Execute the executable file (which is searched for along $PATH)\n",
        "        with argument list args, replacing the current process.\n",
        "    \n",
        "    execlpe(file, *args)\n",
        "        execlpe(file, *args, env)\n",
        "        \n",
        "        Execute the executable file (which is searched for along $PATH)\n",
        "        with argument list args and environment env, replacing the current\n",
        "        process.\n",
        "    \n",
        "    execv(...)\n",
        "        execv(path, args)\n",
        "        \n",
        "        Execute an executable path with arguments, replacing current process.\n",
        "        \n",
        "            path: path of executable file\n",
        "            args: tuple or list of strings\n",
        "    \n",
        "    execve(...)\n",
        "        execve(path, args, env)\n",
        "        \n",
        "        Execute a path with arguments and environment, replacing current process.\n",
        "        \n",
        "            path: path of executable file\n",
        "            args: tuple or list of arguments\n",
        "            env: dictionary of strings mapping to strings\n",
        "    \n",
        "    execvp(file, args)\n",
        "        execvp(file, args)\n",
        "        \n",
        "        Execute the executable file (which is searched for along $PATH)\n",
        "        with argument list args, replacing the current process.\n",
        "        args may be a list or tuple of strings.\n",
        "    \n",
        "    execvpe(file, args, env)\n",
        "        execvpe(file, args, env)\n",
        "        \n",
        "        Execute the executable file (which is searched for along $PATH)\n",
        "        with argument list args and environment env , replacing the\n",
        "        current process.\n",
        "        args may be a list or tuple of strings.\n",
        "    \n",
        "    fdopen(...)\n",
        "        fdopen(fd [, mode='r' [, bufsize]]) -> file_object\n",
        "        \n",
        "        Return an open file object connected to a file descriptor.\n",
        "    \n",
        "    fstat(...)\n",
        "        fstat(fd) -> stat result\n",
        "        \n",
        "        Like stat(), but for an open file descriptor.\n",
        "    \n",
        "    fsync(...)\n",
        "        fsync(fildes)\n",
        "        \n",
        "        force write of file with filedescriptor to disk.\n",
        "    \n",
        "    getcwd(...)\n",
        "        getcwd() -> path\n",
        "        \n",
        "        Return a string representing the current working directory.\n",
        "    \n",
        "    getcwdu(...)\n",
        "        getcwdu() -> path\n",
        "        \n",
        "        Return a unicode string representing the current working directory.\n",
        "    \n",
        "    getenv(key, default=None)\n",
        "        Get an environment variable, return None if it doesn't exist.\n",
        "        The optional second argument can specify an alternate default.\n",
        "    \n",
        "    getpid(...)\n",
        "        getpid() -> pid\n",
        "        \n",
        "        Return the current process id\n",
        "    \n",
        "    isatty(...)\n",
        "        isatty(fd) -> bool\n",
        "        \n",
        "        Return True if the file descriptor 'fd' is an open file descriptor\n",
        "        connected to the slave end of a terminal.\n",
        "    \n",
        "    kill(...)\n",
        "        kill(pid, sig)\n",
        "        \n",
        "        Kill a process with a signal.\n",
        "    \n",
        "    listdir(...)\n",
        "        listdir(path) -> list_of_strings\n",
        "        \n",
        "        Return a list containing the names of the entries in the directory.\n",
        "        \n",
        "            path: path of directory to list\n",
        "        \n",
        "        The list is in arbitrary order.  It does not include the special\n",
        "        entries '.' and '..' even if they are present in the directory.\n",
        "    \n",
        "    lseek(...)\n",
        "        lseek(fd, pos, how) -> newpos\n",
        "        \n",
        "        Set the current position of a file descriptor.\n",
        "    \n",
        "    lstat(...)\n",
        "        lstat(path) -> stat result\n",
        "        \n",
        "        Like stat(path), but do not follow symbolic links.\n",
        "    \n",
        "    makedirs(name, mode=511)\n",
        "        makedirs(path [, mode=0777])\n",
        "        \n",
        "        Super-mkdir; create a leaf directory and all intermediate ones.\n",
        "        Works like mkdir, except that any intermediate path segment (not\n",
        "        just the rightmost) will be created if it does not exist.  This is\n",
        "        recursive.\n",
        "    \n",
        "    mkdir(...)\n",
        "        mkdir(path [, mode=0777])\n",
        "        \n",
        "        Create a directory.\n",
        "    \n",
        "    open(...)\n",
        "        open(filename, flag [, mode=0777]) -> fd\n",
        "        \n",
        "        Open a file (for low level IO).\n",
        "    \n",
        "    pipe(...)\n",
        "        pipe() -> (read_end, write_end)\n",
        "        \n",
        "        Create a pipe.\n",
        "    \n",
        "    popen(...)\n",
        "        popen(command [, mode='r' [, bufsize]]) -> pipe\n",
        "        \n",
        "        Open a pipe to/from a command returning a file object.\n",
        "    \n",
        "    popen2(...)\n",
        "    \n",
        "    popen3(...)\n",
        "    \n",
        "    popen4(...)\n",
        "    \n",
        "    putenv(...)\n",
        "        putenv(key, value)\n",
        "        \n",
        "        Change or add an environment variable.\n",
        "    \n",
        "    read(...)\n",
        "        read(fd, buffersize) -> string\n",
        "        \n",
        "        Read a file descriptor.\n",
        "    \n",
        "    remove(...)\n",
        "        remove(path)\n",
        "        \n",
        "        Remove a file (same as unlink(path)).\n",
        "    \n",
        "    removedirs(name)\n",
        "        removedirs(path)\n",
        "        \n",
        "        Super-rmdir; remove a leaf directory and all empty intermediate\n",
        "        ones.  Works like rmdir except that, if the leaf directory is\n",
        "        successfully removed, directories corresponding to rightmost path\n",
        "        segments will be pruned away until either the whole path is\n",
        "        consumed or an error occurs.  Errors during this latter phase are\n",
        "        ignored -- they generally mean that a directory was not empty.\n",
        "    \n",
        "    rename(...)\n",
        "        rename(old, new)\n",
        "        \n",
        "        Rename a file or directory.\n",
        "    \n",
        "    renames(old, new)\n",
        "        renames(old, new)\n",
        "        \n",
        "        Super-rename; create directories as necessary and delete any left\n",
        "        empty.  Works like rename, except creation of any intermediate\n",
        "        directories needed to make the new pathname good is attempted\n",
        "        first.  After the rename, directories corresponding to rightmost\n",
        "        path segments of the old name will be pruned way until either the\n",
        "        whole path is consumed or a nonempty directory is found.\n",
        "        \n",
        "        Note: this function can fail with the new directory structure made\n",
        "        if you lack permissions needed to unlink the leaf directory or\n",
        "        file.\n",
        "    \n",
        "    rmdir(...)\n",
        "        rmdir(path)\n",
        "        \n",
        "        Remove a directory.\n",
        "    \n",
        "    spawnl(mode, file, *args)\n",
        "        spawnl(mode, file, *args) -> integer\n",
        "        \n",
        "        Execute file with arguments from args in a subprocess.\n",
        "        If mode == P_NOWAIT return the pid of the process.\n",
        "        If mode == P_WAIT return the process's exit code if it exits normally;\n",
        "        otherwise return -SIG, where SIG is the signal that killed it.\n",
        "    \n",
        "    spawnle(mode, file, *args)\n",
        "        spawnle(mode, file, *args, env) -> integer\n",
        "        \n",
        "        Execute file with arguments from args in a subprocess with the\n",
        "        supplied environment.\n",
        "        If mode == P_NOWAIT return the pid of the process.\n",
        "        If mode == P_WAIT return the process's exit code if it exits normally;\n",
        "        otherwise return -SIG, where SIG is the signal that killed it.\n",
        "    \n",
        "    spawnv(...)\n",
        "        spawnv(mode, path, args)\n",
        "        \n",
        "        Execute the program 'path' in a new process.\n",
        "        \n",
        "            mode: mode of process creation\n",
        "            path: path of executable file\n",
        "            args: tuple or list of strings\n",
        "    \n",
        "    spawnve(...)\n",
        "        spawnve(mode, path, args, env)\n",
        "        \n",
        "        Execute the program 'path' in a new process.\n",
        "        \n",
        "            mode: mode of process creation\n",
        "            path: path of executable file\n",
        "            args: tuple or list of arguments\n",
        "            env: dictionary of strings mapping to strings\n",
        "    \n",
        "    startfile(...)\n",
        "        startfile(filepath [, operation]) - Start a file with its associated\n",
        "        application.\n",
        "        \n",
        "        When \"operation\" is not specified or \"open\", this acts like\n",
        "        double-clicking the file in Explorer, or giving the file name as an\n",
        "        argument to the DOS \"start\" command: the file is opened with whatever\n",
        "        application (if any) its extension is associated.\n",
        "        When another \"operation\" is given, it specifies what should be done with\n",
        "        the file.  A typical operation is \"print\".\n",
        "        \n",
        "        startfile returns as soon as the associated application is launched.\n",
        "        There is no option to wait for the application to close, and no way\n",
        "        to retrieve the application's exit status.\n",
        "        \n",
        "        The filepath is relative to the current directory.  If you want to use\n",
        "        an absolute path, make sure the first character is not a slash (\"/\");\n",
        "        the underlying Win32 ShellExecute function doesn't work if it is.\n",
        "    \n",
        "    stat(...)\n",
        "        stat(path) -> stat result\n",
        "        \n",
        "        Perform a stat system call on the given path.\n",
        "    \n",
        "    stat_float_times(...)\n",
        "        stat_float_times([newval]) -> oldval\n",
        "        \n",
        "        Determine whether os.[lf]stat represents time stamps as float objects.\n",
        "        If newval is True, future calls to stat() return floats, if it is False,\n",
        "        future calls return ints. \n",
        "        If newval is omitted, return the current setting.\n",
        "    \n",
        "    strerror(...)\n",
        "        strerror(code) -> string\n",
        "        \n",
        "        Translate an error code to a message string.\n",
        "    \n",
        "    system(...)\n",
        "        system(command) -> exit_status\n",
        "        \n",
        "        Execute the command (a string) in a subshell.\n",
        "    \n",
        "    tempnam(...)\n",
        "        tempnam([dir[, prefix]]) -> string\n",
        "        \n",
        "        Return a unique name for a temporary file.\n",
        "        The directory and a prefix may be specified as strings; they may be omitted\n",
        "        or None if not needed.\n",
        "    \n",
        "    times(...)\n",
        "        times() -> (utime, stime, cutime, cstime, elapsed_time)\n",
        "        \n",
        "        Return a tuple of floating point numbers indicating process times.\n",
        "    \n",
        "    tmpfile(...)\n",
        "        tmpfile() -> file object\n",
        "        \n",
        "        Create a temporary file with no directory entries.\n",
        "    \n",
        "    tmpnam(...)\n",
        "        tmpnam() -> string\n",
        "        \n",
        "        Return a unique name for a temporary file.\n",
        "    \n",
        "    umask(...)\n",
        "        umask(new_mask) -> old_mask\n",
        "        \n",
        "        Set the current numeric umask and return the previous umask.\n",
        "    \n",
        "    unlink(...)\n",
        "        unlink(path)\n",
        "        \n",
        "        Remove a file (same as remove(path)).\n",
        "    \n",
        "    urandom(...)\n",
        "        urandom(n) -> str\n",
        "        \n",
        "        Return n random bytes suitable for cryptographic use.\n",
        "    \n",
        "    utime(...)\n",
        "        utime(path, (atime, mtime))\n",
        "        utime(path, None)\n",
        "        \n",
        "        Set the access and modified time of the file to the given values.  If the\n",
        "        second form is used, set the access and modified times to the current time.\n",
        "    \n",
        "    waitpid(...)\n",
        "        waitpid(pid, options) -> (pid, status << 8)\n",
        "        \n",
        "        Wait for completion of a given process.  options is ignored on Windows.\n",
        "    \n",
        "    walk(top, topdown=True, onerror=None, followlinks=False)\n",
        "        Directory tree generator.\n",
        "        \n",
        "        For each directory in the directory tree rooted at top (including top\n",
        "        itself, but excluding '.' and '..'), yields a 3-tuple\n",
        "        \n",
        "            dirpath, dirnames, filenames\n",
        "        \n",
        "        dirpath is a string, the path to the directory.  dirnames is a list of\n",
        "        the names of the subdirectories in dirpath (excluding '.' and '..').\n",
        "        filenames is a list of the names of the non-directory files in dirpath.\n",
        "        Note that the names in the lists are just names, with no path components.\n",
        "        To get a full path (which begins with top) to a file or directory in\n",
        "        dirpath, do os.path.join(dirpath, name).\n",
        "        \n",
        "        If optional arg 'topdown' is true or not specified, the triple for a\n",
        "        directory is generated before the triples for any of its subdirectories\n",
        "        (directories are generated top down).  If topdown is false, the triple\n",
        "        for a directory is generated after the triples for all of its\n",
        "        subdirectories (directories are generated bottom up).\n",
        "        \n",
        "        When topdown is true, the caller can modify the dirnames list in-place\n",
        "        (e.g., via del or slice assignment), and walk will only recurse into the\n",
        "        subdirectories whose names remain in dirnames; this can be used to prune\n",
        "        the search, or to impose a specific order of visiting.  Modifying\n",
        "        dirnames when topdown is false is ineffective, since the directories in\n",
        "        dirnames have already been generated by the time dirnames itself is\n",
        "        generated.\n",
        "        \n",
        "        By default errors from the os.listdir() call are ignored.  If\n",
        "        optional arg 'onerror' is specified, it should be a function; it\n",
        "        will be called with one argument, an os.error instance.  It can\n",
        "        report the error to continue with the walk, or raise the exception\n",
        "        to abort the walk.  Note that the filename is available as the\n",
        "        filename attribute of the exception object.\n",
        "        \n",
        "        By default, os.walk does not follow symbolic links to subdirectories on\n",
        "        systems that support them.  In order to get this functionality, set the\n",
        "        optional argument 'followlinks' to true.\n",
        "        \n",
        "        Caution:  if you pass a relative pathname for top, don't change the\n",
        "        current working directory between resumptions of walk.  walk never\n",
        "        changes the current directory, and assumes that the client doesn't\n",
        "        either.\n",
        "        \n",
        "        Example:\n",
        "        \n",
        "        import os\n",
        "        from os.path import join, getsize\n",
        "        for root, dirs, files in os.walk('python/Lib/email'):\n",
        "            print root, \"consumes\",\n",
        "            print sum([getsize(join(root, name)) for name in files]),\n",
        "            print \"bytes in\", len(files), \"non-directory files\"\n",
        "            if 'CVS' in dirs:\n",
        "                dirs.remove('CVS')  # don't visit CVS directories\n",
        "    \n",
        "    write(...)\n",
        "        write(fd, string) -> byteswritten\n",
        "        \n",
        "        Write a string to a file descriptor.\n",
        "\n",
        "DATA\n",
        "    F_OK = 0\n",
        "    O_APPEND = 8\n",
        "    O_BINARY = 32768\n",
        "    O_CREAT = 256\n",
        "    O_EXCL = 1024\n",
        "    O_NOINHERIT = 128\n",
        "    O_RANDOM = 16\n",
        "    O_RDONLY = 0\n",
        "    O_RDWR = 2\n",
        "    O_SEQUENTIAL = 32\n",
        "    O_SHORT_LIVED = 4096\n",
        "    O_TEMPORARY = 64\n",
        "    O_TEXT = 16384\n",
        "    O_TRUNC = 512\n",
        "    O_WRONLY = 1\n",
        "    P_DETACH = 4\n",
        "    P_NOWAIT = 1\n",
        "    P_NOWAITO = 3\n",
        "    P_OVERLAY = 2\n",
        "    P_WAIT = 0\n",
        "    R_OK = 4\n",
        "    SEEK_CUR = 1\n",
        "    SEEK_END = 2\n",
        "    SEEK_SET = 0\n",
        "    TMP_MAX = 32767\n",
        "    W_OK = 2\n",
        "    X_OK = 1\n",
        "    __all__ = ['altsep', 'curdir', 'pardir', 'sep', 'extsep', 'pathsep', '...\n",
        "    altsep = '/'\n",
        "    curdir = '.'\n",
        "    defpath = r'.;C:\\bin'\n",
        "    devnull = 'nul'\n",
        "    environ = {'TMP': 'C:\\\\Users\\\\Manuel\\\\AppData\\\\Local\\\\Temp...ers\\\\Publ...\n",
        "    extsep = '.'\n",
        "    linesep = '\\r\\n'\n",
        "    name = 'nt'\n",
        "    pardir = '..'\n",
        "    pathsep = ';'\n",
        "    sep = r'\\'\n",
        "\n",
        "\n"
       ]
      }
     ],
     "prompt_number": 97
    },
    {
     "cell_type": "code",
     "collapsed": false,
     "input": [
      "os.getcwd()"
     ],
     "language": "python",
     "metadata": {},
     "outputs": [
      {
       "metadata": {},
       "output_type": "pyout",
       "prompt_number": 98,
       "text": [
        "'C:\\\\Users\\\\Manuel\\\\Documents\\\\IPython Notebooks'"
       ]
      }
     ],
     "prompt_number": 98
    },
    {
     "cell_type": "code",
     "collapsed": false,
     "input": [
      "date(2014,3,8)"
     ],
     "language": "python",
     "metadata": {},
     "outputs": [
      {
       "ename": "NameError",
       "evalue": "name 'date' is not defined",
       "output_type": "pyerr",
       "traceback": [
        "\u001b[1;31m---------------------------------------------------------------------------\u001b[0m\n\u001b[1;31mNameError\u001b[0m                                 Traceback (most recent call last)",
        "\u001b[1;32m<ipython-input-102-c1fd57330636>\u001b[0m in \u001b[0;36m<module>\u001b[1;34m()\u001b[0m\n\u001b[1;32m----> 1\u001b[1;33m \u001b[0mdate\u001b[0m\u001b[1;33m(\u001b[0m\u001b[1;36m2014\u001b[0m\u001b[1;33m,\u001b[0m\u001b[1;36m3\u001b[0m\u001b[1;33m,\u001b[0m\u001b[1;36m8\u001b[0m\u001b[1;33m)\u001b[0m\u001b[1;33m\u001b[0m\u001b[0m\n\u001b[0m",
        "\u001b[1;31mNameError\u001b[0m: name 'date' is not defined"
       ]
      }
     ],
     "prompt_number": 102
    },
    {
     "cell_type": "code",
     "collapsed": false,
     "input": [
      "import datetime"
     ],
     "language": "python",
     "metadata": {},
     "outputs": [],
     "prompt_number": 100
    },
    {
     "cell_type": "code",
     "collapsed": false,
     "input": [
      "from datetime import date"
     ],
     "language": "python",
     "metadata": {},
     "outputs": [],
     "prompt_number": 103
    },
    {
     "cell_type": "code",
     "collapsed": false,
     "input": [
      "d =date(2014,3,8)"
     ],
     "language": "python",
     "metadata": {},
     "outputs": [],
     "prompt_number": 105
    },
    {
     "cell_type": "code",
     "collapsed": false,
     "input": [
      "d"
     ],
     "language": "python",
     "metadata": {},
     "outputs": [
      {
       "metadata": {},
       "output_type": "pyout",
       "prompt_number": 106,
       "text": [
        "datetime.date(2014, 3, 8)"
       ]
      }
     ],
     "prompt_number": 106
    },
    {
     "cell_type": "code",
     "collapsed": false,
     "input": [
      "help(date)"
     ],
     "language": "python",
     "metadata": {},
     "outputs": [
      {
       "output_type": "stream",
       "stream": "stdout",
       "text": [
        "Help on class date in module datetime:\n",
        "\n",
        "class date(__builtin__.object)\n",
        " |  date(year, month, day) --> date object\n",
        " |  \n",
        " |  Methods defined here:\n",
        " |  \n",
        " |  __add__(...)\n",
        " |      x.__add__(y) <==> x+y\n",
        " |  \n",
        " |  __eq__(...)\n",
        " |      x.__eq__(y) <==> x==y\n",
        " |  \n",
        " |  __format__(...)\n",
        " |      Formats self with strftime.\n",
        " |  \n",
        " |  __ge__(...)\n",
        " |      x.__ge__(y) <==> x>=y\n",
        " |  \n",
        " |  __getattribute__(...)\n",
        " |      x.__getattribute__('name') <==> x.name\n",
        " |  \n",
        " |  __gt__(...)\n",
        " |      x.__gt__(y) <==> x>y\n",
        " |  \n",
        " |  __hash__(...)\n",
        " |      x.__hash__() <==> hash(x)\n",
        " |  \n",
        " |  __le__(...)\n",
        " |      x.__le__(y) <==> x<=y\n",
        " |  \n",
        " |  __lt__(...)\n",
        " |      x.__lt__(y) <==> x<y\n",
        " |  \n",
        " |  __ne__(...)\n",
        " |      x.__ne__(y) <==> x!=y\n",
        " |  \n",
        " |  __radd__(...)\n",
        " |      x.__radd__(y) <==> y+x\n",
        " |  \n",
        " |  __reduce__(...)\n",
        " |      __reduce__() -> (cls, state)\n",
        " |  \n",
        " |  __repr__(...)\n",
        " |      x.__repr__() <==> repr(x)\n",
        " |  \n",
        " |  __rsub__(...)\n",
        " |      x.__rsub__(y) <==> y-x\n",
        " |  \n",
        " |  __str__(...)\n",
        " |      x.__str__() <==> str(x)\n",
        " |  \n",
        " |  __sub__(...)\n",
        " |      x.__sub__(y) <==> x-y\n",
        " |  \n",
        " |  ctime(...)\n",
        " |      Return ctime() style string.\n",
        " |  \n",
        " |  fromordinal(...)\n",
        " |      int -> date corresponding to a proleptic Gregorian ordinal.\n",
        " |  \n",
        " |  fromtimestamp(...)\n",
        " |      timestamp -> local date from a POSIX timestamp (like time.time()).\n",
        " |  \n",
        " |  isocalendar(...)\n",
        " |      Return a 3-tuple containing ISO year, week number, and weekday.\n",
        " |  \n",
        " |  isoformat(...)\n",
        " |      Return string in ISO 8601 format, YYYY-MM-DD.\n",
        " |  \n",
        " |  isoweekday(...)\n",
        " |      Return the day of the week represented by the date.\n",
        " |      Monday == 1 ... Sunday == 7\n",
        " |  \n",
        " |  replace(...)\n",
        " |      Return date with new specified fields.\n",
        " |  \n",
        " |  strftime(...)\n",
        " |      format -> strftime() style string.\n",
        " |  \n",
        " |  timetuple(...)\n",
        " |      Return time tuple, compatible with time.localtime().\n",
        " |  \n",
        " |  today(...)\n",
        " |      Current date or datetime:  same as self.__class__.fromtimestamp(time.time()).\n",
        " |  \n",
        " |  toordinal(...)\n",
        " |      Return proleptic Gregorian ordinal.  January 1 of year 1 is day 1.\n",
        " |  \n",
        " |  weekday(...)\n",
        " |      Return the day of the week represented by the date.\n",
        " |      Monday == 0 ... Sunday == 6\n",
        " |  \n",
        " |  ----------------------------------------------------------------------\n",
        " |  Data descriptors defined here:\n",
        " |  \n",
        " |  day\n",
        " |  \n",
        " |  month\n",
        " |  \n",
        " |  year\n",
        " |  \n",
        " |  ----------------------------------------------------------------------\n",
        " |  Data and other attributes defined here:\n",
        " |  \n",
        " |  __new__ = <built-in method __new__ of type object>\n",
        " |      T.__new__(S, ...) -> a new object with type S, a subtype of T\n",
        " |  \n",
        " |  max = datetime.date(9999, 12, 31)\n",
        " |  \n",
        " |  min = datetime.date(1, 1, 1)\n",
        " |  \n",
        " |  resolution = datetime.timedelta(1)\n",
        "\n"
       ]
      }
     ],
     "prompt_number": 107
    },
    {
     "cell_type": "code",
     "collapsed": false,
     "input": [
      "date.today().year"
     ],
     "language": "python",
     "metadata": {},
     "outputs": [
      {
       "metadata": {},
       "output_type": "pyout",
       "prompt_number": 112,
       "text": [
        "2014"
       ]
      }
     ],
     "prompt_number": 112
    },
    {
     "cell_type": "code",
     "collapsed": false,
     "input": [
      "math.factorial(500)"
     ],
     "language": "python",
     "metadata": {},
     "outputs": [
      {
       "metadata": {},
       "output_type": "pyout",
       "prompt_number": 117,
       "text": [
        "1220136825991110068701238785423046926253574342803192842192413588385845373153881997605496447502203281863013616477148203584163378722078177200480785205159329285477907571939330603772960859086270429174547882424912726344305670173270769461062802310452644218878789465754777149863494367781037644274033827365397471386477878495438489595537537990423241061271326984327745715546309977202781014561081188373709531016356324432987029563896628911658974769572087926928871281780070265174507768410719624390394322536422605234945850129918571501248706961568141625359056693423813008856249246891564126775654481886506593847951775360894005745238940335798476363944905313062323749066445048824665075946735862074637925184200459369692981022263971952597190945217823331756934581508552332820762820023402626907898342451712006207714640979456116127629145951237229913340169552363850942885592018727433795173014586357570828355780158735432768888680120399882384702151467605445407663535984174430480128938313896881639487469658817504506926365338175055478128640000000000000000000000000000000000000000000000000000000000000000000000000000000000000000000000000000000000000000000000000000L"
       ]
      }
     ],
     "prompt_number": 117
    },
    {
     "cell_type": "code",
     "collapsed": false,
     "input": [
      "pow(2,3)"
     ],
     "language": "python",
     "metadata": {},
     "outputs": [
      {
       "metadata": {},
       "output_type": "pyout",
       "prompt_number": 118,
       "text": [
        "8"
       ]
      }
     ],
     "prompt_number": 118
    },
    {
     "cell_type": "code",
     "collapsed": false,
     "input": [
      "'as'.upper()"
     ],
     "language": "python",
     "metadata": {},
     "outputs": [
      {
       "metadata": {},
       "output_type": "pyout",
       "prompt_number": 119,
       "text": [
        "'AS'"
       ]
      }
     ],
     "prompt_number": 119
    },
    {
     "cell_type": "code",
     "collapsed": false,
     "input": [
      "math.e"
     ],
     "language": "python",
     "metadata": {},
     "outputs": [
      {
       "metadata": {},
       "output_type": "pyout",
       "prompt_number": 120,
       "text": [
        "2.718281828459045"
       ]
      }
     ],
     "prompt_number": 120
    },
    {
     "cell_type": "code",
     "collapsed": false,
     "input": [
      "import nose"
     ],
     "language": "python",
     "metadata": {},
     "outputs": [],
     "prompt_number": 121
    },
    {
     "cell_type": "code",
     "collapsed": false,
     "input": [
      "nosetests pandas"
     ],
     "language": "python",
     "metadata": {},
     "outputs": [
      {
       "ename": "SyntaxError",
       "evalue": "invalid syntax (<ipython-input-124-3a5839f4d2a8>, line 1)",
       "output_type": "pyerr",
       "traceback": [
        "\u001b[1;36m  File \u001b[1;32m\"<ipython-input-124-3a5839f4d2a8>\"\u001b[1;36m, line \u001b[1;32m1\u001b[0m\n\u001b[1;33m    nosetests pandas\u001b[0m\n\u001b[1;37m                   ^\u001b[0m\n\u001b[1;31mSyntaxError\u001b[0m\u001b[1;31m:\u001b[0m invalid syntax\n"
       ]
      }
     ],
     "prompt_number": 124
    },
    {
     "cell_type": "code",
     "collapsed": false,
     "input": [
      "import pandas"
     ],
     "language": "python",
     "metadata": {},
     "outputs": [],
     "prompt_number": 123
    },
    {
     "cell_type": "code",
     "collapsed": false,
     "input": [
      "nosetests pandas"
     ],
     "language": "python",
     "metadata": {},
     "outputs": [
      {
       "ename": "SyntaxError",
       "evalue": "invalid syntax (<ipython-input-125-3a5839f4d2a8>, line 1)",
       "output_type": "pyerr",
       "traceback": [
        "\u001b[1;36m  File \u001b[1;32m\"<ipython-input-125-3a5839f4d2a8>\"\u001b[1;36m, line \u001b[1;32m1\u001b[0m\n\u001b[1;33m    nosetests pandas\u001b[0m\n\u001b[1;37m                   ^\u001b[0m\n\u001b[1;31mSyntaxError\u001b[0m\u001b[1;31m:\u001b[0m invalid syntax\n"
       ]
      }
     ],
     "prompt_number": 125
    },
    {
     "cell_type": "code",
     "collapsed": false,
     "input": [
      "dates = pd.date_range('20130101',periods=6)"
     ],
     "language": "python",
     "metadata": {},
     "outputs": [],
     "prompt_number": 128
    },
    {
     "cell_type": "code",
     "collapsed": false,
     "input": [
      "import pandas as pd"
     ],
     "language": "python",
     "metadata": {},
     "outputs": [],
     "prompt_number": 127
    },
    {
     "cell_type": "code",
     "collapsed": false,
     "input": [
      "dates"
     ],
     "language": "python",
     "metadata": {},
     "outputs": [
      {
       "metadata": {},
       "output_type": "pyout",
       "prompt_number": 129,
       "text": [
        "<class 'pandas.tseries.index.DatetimeIndex'>\n",
        "[2013-01-01, ..., 2013-01-06]\n",
        "Length: 6, Freq: D, Timezone: None"
       ]
      }
     ],
     "prompt_number": 129
    },
    {
     "cell_type": "code",
     "collapsed": false,
     "input": [
      "import numpy as np"
     ],
     "language": "python",
     "metadata": {},
     "outputs": [],
     "prompt_number": 132
    },
    {
     "cell_type": "code",
     "collapsed": false,
     "input": [
      "np.random.randn(6,4)"
     ],
     "language": "python",
     "metadata": {},
     "outputs": [
      {
       "metadata": {},
       "output_type": "pyout",
       "prompt_number": 133,
       "text": [
        "array([[-1.74707176,  0.16515535, -0.33532331, -2.63239423],\n",
        "       [ 0.5241716 , -0.05819544, -0.31565631,  0.49845661],\n",
        "       [ 0.88017536, -2.11958143,  0.36134241,  0.36179572],\n",
        "       [ 0.35283616,  0.4426159 , -1.04116773, -0.99816698],\n",
        "       [-2.14407268,  1.05912473,  0.4176241 , -0.88910466],\n",
        "       [ 0.83320163,  1.42551806, -0.78278094, -1.07003342]])"
       ]
      }
     ],
     "prompt_number": 133
    },
    {
     "cell_type": "code",
     "collapsed": false,
     "input": [
      "df = pd.DataFrame(np.random.randn(6,4),index=dates,columns=list('ABCD'))"
     ],
     "language": "python",
     "metadata": {},
     "outputs": [],
     "prompt_number": 134
    },
    {
     "cell_type": "code",
     "collapsed": false,
     "input": [
      "df"
     ],
     "language": "python",
     "metadata": {},
     "outputs": [
      {
       "html": [
        "<div style=\"max-height:1000px;max-width:1500px;overflow:auto;\">\n",
        "<table border=\"1\" class=\"dataframe\">\n",
        "  <thead>\n",
        "    <tr style=\"text-align: right;\">\n",
        "      <th></th>\n",
        "      <th>A</th>\n",
        "      <th>B</th>\n",
        "      <th>C</th>\n",
        "      <th>D</th>\n",
        "    </tr>\n",
        "  </thead>\n",
        "  <tbody>\n",
        "    <tr>\n",
        "      <th>2013-01-01</th>\n",
        "      <td>-0.564613</td>\n",
        "      <td> 0.450737</td>\n",
        "      <td> 0.596421</td>\n",
        "      <td>-1.812591</td>\n",
        "    </tr>\n",
        "    <tr>\n",
        "      <th>2013-01-02</th>\n",
        "      <td> 0.946129</td>\n",
        "      <td>-1.170233</td>\n",
        "      <td> 1.383965</td>\n",
        "      <td>-0.215490</td>\n",
        "    </tr>\n",
        "    <tr>\n",
        "      <th>2013-01-03</th>\n",
        "      <td> 0.282532</td>\n",
        "      <td> 0.514916</td>\n",
        "      <td>-0.329670</td>\n",
        "      <td>-0.261083</td>\n",
        "    </tr>\n",
        "    <tr>\n",
        "      <th>2013-01-04</th>\n",
        "      <td> 0.285730</td>\n",
        "      <td>-0.315410</td>\n",
        "      <td> 0.520213</td>\n",
        "      <td> 0.138268</td>\n",
        "    </tr>\n",
        "    <tr>\n",
        "      <th>2013-01-05</th>\n",
        "      <td>-0.219335</td>\n",
        "      <td> 0.783875</td>\n",
        "      <td>-0.517647</td>\n",
        "      <td>-1.017376</td>\n",
        "    </tr>\n",
        "    <tr>\n",
        "      <th>2013-01-06</th>\n",
        "      <td> 0.057135</td>\n",
        "      <td>-0.698747</td>\n",
        "      <td>-1.306808</td>\n",
        "      <td> 0.923406</td>\n",
        "    </tr>\n",
        "  </tbody>\n",
        "</table>\n",
        "<p>6 rows \u00d7 4 columns</p>\n",
        "</div>"
       ],
       "metadata": {},
       "output_type": "pyout",
       "prompt_number": 137,
       "text": [
        "                   A         B         C         D\n",
        "2013-01-01 -0.564613  0.450737  0.596421 -1.812591\n",
        "2013-01-02  0.946129 -1.170233  1.383965 -0.215490\n",
        "2013-01-03  0.282532  0.514916 -0.329670 -0.261083\n",
        "2013-01-04  0.285730 -0.315410  0.520213  0.138268\n",
        "2013-01-05 -0.219335  0.783875 -0.517647 -1.017376\n",
        "2013-01-06  0.057135 -0.698747 -1.306808  0.923406\n",
        "\n",
        "[6 rows x 4 columns]"
       ]
      }
     ],
     "prompt_number": 137
    },
    {
     "cell_type": "code",
     "collapsed": false,
     "input": [
      "df.head(2)"
     ],
     "language": "python",
     "metadata": {},
     "outputs": [
      {
       "html": [
        "<div style=\"max-height:1000px;max-width:1500px;overflow:auto;\">\n",
        "<table border=\"1\" class=\"dataframe\">\n",
        "  <thead>\n",
        "    <tr style=\"text-align: right;\">\n",
        "      <th></th>\n",
        "      <th>A</th>\n",
        "      <th>B</th>\n",
        "      <th>C</th>\n",
        "      <th>D</th>\n",
        "    </tr>\n",
        "  </thead>\n",
        "  <tbody>\n",
        "    <tr>\n",
        "      <th>2013-01-01</th>\n",
        "      <td>-0.564613</td>\n",
        "      <td> 0.450737</td>\n",
        "      <td> 0.596421</td>\n",
        "      <td>-1.812591</td>\n",
        "    </tr>\n",
        "    <tr>\n",
        "      <th>2013-01-02</th>\n",
        "      <td> 0.946129</td>\n",
        "      <td>-1.170233</td>\n",
        "      <td> 1.383965</td>\n",
        "      <td>-0.215490</td>\n",
        "    </tr>\n",
        "  </tbody>\n",
        "</table>\n",
        "<p>2 rows \u00d7 4 columns</p>\n",
        "</div>"
       ],
       "metadata": {},
       "output_type": "pyout",
       "prompt_number": 139,
       "text": [
        "                   A         B         C         D\n",
        "2013-01-01 -0.564613  0.450737  0.596421 -1.812591\n",
        "2013-01-02  0.946129 -1.170233  1.383965 -0.215490\n",
        "\n",
        "[2 rows x 4 columns]"
       ]
      }
     ],
     "prompt_number": 139
    },
    {
     "cell_type": "code",
     "collapsed": false,
     "input": [
      "df.tail(3)"
     ],
     "language": "python",
     "metadata": {},
     "outputs": [
      {
       "html": [
        "<div style=\"max-height:1000px;max-width:1500px;overflow:auto;\">\n",
        "<table border=\"1\" class=\"dataframe\">\n",
        "  <thead>\n",
        "    <tr style=\"text-align: right;\">\n",
        "      <th></th>\n",
        "      <th>A</th>\n",
        "      <th>B</th>\n",
        "      <th>C</th>\n",
        "      <th>D</th>\n",
        "    </tr>\n",
        "  </thead>\n",
        "  <tbody>\n",
        "    <tr>\n",
        "      <th>2013-01-04</th>\n",
        "      <td> 0.285730</td>\n",
        "      <td>-0.315410</td>\n",
        "      <td> 0.520213</td>\n",
        "      <td> 0.138268</td>\n",
        "    </tr>\n",
        "    <tr>\n",
        "      <th>2013-01-05</th>\n",
        "      <td>-0.219335</td>\n",
        "      <td> 0.783875</td>\n",
        "      <td>-0.517647</td>\n",
        "      <td>-1.017376</td>\n",
        "    </tr>\n",
        "    <tr>\n",
        "      <th>2013-01-06</th>\n",
        "      <td> 0.057135</td>\n",
        "      <td>-0.698747</td>\n",
        "      <td>-1.306808</td>\n",
        "      <td> 0.923406</td>\n",
        "    </tr>\n",
        "  </tbody>\n",
        "</table>\n",
        "<p>3 rows \u00d7 4 columns</p>\n",
        "</div>"
       ],
       "metadata": {},
       "output_type": "pyout",
       "prompt_number": 140,
       "text": [
        "                   A         B         C         D\n",
        "2013-01-04  0.285730 -0.315410  0.520213  0.138268\n",
        "2013-01-05 -0.219335  0.783875 -0.517647 -1.017376\n",
        "2013-01-06  0.057135 -0.698747 -1.306808  0.923406\n",
        "\n",
        "[3 rows x 4 columns]"
       ]
      }
     ],
     "prompt_number": 140
    },
    {
     "cell_type": "code",
     "collapsed": false,
     "input": [
      "df.columns"
     ],
     "language": "python",
     "metadata": {},
     "outputs": [
      {
       "metadata": {},
       "output_type": "pyout",
       "prompt_number": 141,
       "text": [
        "Index([u'A', u'B', u'C', u'D'], dtype='object')"
       ]
      }
     ],
     "prompt_number": 141
    },
    {
     "cell_type": "code",
     "collapsed": false,
     "input": [
      "len(df.values)"
     ],
     "language": "python",
     "metadata": {},
     "outputs": [
      {
       "metadata": {},
       "output_type": "pyout",
       "prompt_number": 143,
       "text": [
        "6"
       ]
      }
     ],
     "prompt_number": 143
    },
    {
     "cell_type": "code",
     "collapsed": false,
     "input": [
      "import matplotlib.pyplot as plt"
     ],
     "language": "python",
     "metadata": {},
     "outputs": [],
     "prompt_number": 18
    },
    {
     "cell_type": "code",
     "collapsed": false,
     "input": [
      "df.mean()"
     ],
     "language": "python",
     "metadata": {},
     "outputs": [
      {
       "metadata": {},
       "output_type": "pyout",
       "prompt_number": 145,
       "text": [
        "A    0.131263\n",
        "B   -0.072477\n",
        "C    0.057746\n",
        "D   -0.374145\n",
        "dtype: float64"
       ]
      }
     ],
     "prompt_number": 145
    },
    {
     "cell_type": "code",
     "collapsed": false,
     "input": [
      "ts = pd.Series(np.random.randn(1000), index=pd.date_range('1/1/2000', periods=1000))"
     ],
     "language": "python",
     "metadata": {},
     "outputs": [],
     "prompt_number": 146
    },
    {
     "cell_type": "code",
     "collapsed": false,
     "input": [
      "ts = ts.cumsum()"
     ],
     "language": "python",
     "metadata": {},
     "outputs": [],
     "prompt_number": 150
    },
    {
     "cell_type": "code",
     "collapsed": false,
     "input": [
      "ts.plot()"
     ],
     "language": "python",
     "metadata": {},
     "outputs": [
      {
       "metadata": {},
       "output_type": "pyout",
       "prompt_number": 151,
       "text": [
        "<matplotlib.axes.AxesSubplot at 0xbc9eba8>"
       ]
      }
     ],
     "prompt_number": 151
    },
    {
     "cell_type": "code",
     "collapsed": false,
     "input": [
      "prng = pd.period_range('1990Q1', '2000Q4', freq='Q-NOV')"
     ],
     "language": "python",
     "metadata": {},
     "outputs": [],
     "prompt_number": 153
    },
    {
     "cell_type": "code",
     "collapsed": false,
     "input": [
      "ts = pd.Series(np.random.randn(len(prng)), prng)"
     ],
     "language": "python",
     "metadata": {},
     "outputs": [],
     "prompt_number": 154
    },
    {
     "cell_type": "code",
     "collapsed": false,
     "input": [
      "ts.index = (prng.asfreq('M', 'e') + 1).asfreq('H', 's') + 9"
     ],
     "language": "python",
     "metadata": {},
     "outputs": [],
     "prompt_number": 155
    },
    {
     "cell_type": "code",
     "collapsed": false,
     "input": [
      "ts = pd.Series(np.random.randn(1000), index=pd.date_range('1/1/2000', periods=1000))"
     ],
     "language": "python",
     "metadata": {},
     "outputs": [],
     "prompt_number": 156
    },
    {
     "cell_type": "code",
     "collapsed": false,
     "input": [
      "ts = ts.cumsum()"
     ],
     "language": "python",
     "metadata": {},
     "outputs": [],
     "prompt_number": 157
    },
    {
     "cell_type": "code",
     "collapsed": false,
     "input": [
      "ts.plot()"
     ],
     "language": "python",
     "metadata": {},
     "outputs": [
      {
       "metadata": {},
       "output_type": "pyout",
       "prompt_number": 166,
       "text": [
        "<matplotlib.axes.AxesSubplot at 0xbf7eeb8>"
       ]
      },
      {
       "metadata": {},
       "output_type": "display_data",
       "png": "[encoded data removed]",
       "text": [
        "<matplotlib.figure.Figure at 0xc189c88>"
       ]
      }
     ],
     "prompt_number": 166
    },
    {
     "cell_type": "code",
     "collapsed": false,
     "input": [
      "plt.plot(ts)"
     ],
     "language": "python",
     "metadata": {},
     "outputs": [
      {
       "metadata": {},
       "output_type": "pyout",
       "prompt_number": 160,
       "text": [
        "[<matplotlib.lines.Line2D at 0x9f5ffd0>]"
       ]
      }
     ],
     "prompt_number": 160
    },
    {
     "cell_type": "code",
     "collapsed": false,
     "input": [
      "plt.figure(); ts.plot(style='k--', label='Series'); plt.legend()"
     ],
     "language": "python",
     "metadata": {},
     "outputs": [
      {
       "metadata": {},
       "output_type": "pyout",
       "prompt_number": 161,
       "text": [
        "<matplotlib.legend.Legend at 0xbcd7f60>"
       ]
      }
     ],
     "prompt_number": 161
    },
    {
     "cell_type": "code",
     "collapsed": false,
     "input": [
      "x = np.linspace(0, 3*np.pi, 500)\n",
      "plt.plot(x, np.sin(x**2))\n",
      "plt.title('A simple chirp');"
     ],
     "language": "python",
     "metadata": {},
     "outputs": [
      {
       "metadata": {},
       "output_type": "display_data",
       "png": "[encoded data removed]",
       "text": [
        "<matplotlib.figure.Figure at 0xbf5e9b0>"
       ]
      }
     ],
     "prompt_number": 164
    },
    {
     "cell_type": "code",
     "collapsed": false,
     "input": [
      "%matplotlib inline"
     ],
     "language": "python",
     "metadata": {},
     "outputs": [],
     "prompt_number": 163
    },
    {
     "cell_type": "code",
     "collapsed": false,
     "input": [
      "help()"
     ],
     "language": "python",
     "metadata": {},
     "outputs": [
      {
       "output_type": "stream",
       "stream": "stdout",
       "text": [
        "\n",
        "Welcome to Python 2.7!  This is the online help utility.\n",
        "\n",
        "If this is your first time using Python, you should definitely check out\n",
        "the tutorial on the Internet at http://docs.python.org/2.7/tutorial/.\n",
        "\n",
        "Enter the name of any module, keyword, or topic to get help on writing\n",
        "Python programs and using Python modules.  To quit this help utility and\n",
        "return to the interpreter, just type \"quit\".\n",
        "\n",
        "To get a list of available modules, keywords, or topics, type \"modules\",\n",
        "\"keywords\", or \"topics\".  Each module also comes with a one-line summary\n",
        "of what it does; to list the modules whose summaries contain a given word\n",
        "such as \"spam\", type \"modules spam\".\n",
        "\n"
       ]
      },
      {
       "name": "stdout",
       "output_type": "stream",
       "stream": "stdout",
       "text": [
        "help> quit()\n"
       ]
      },
      {
       "output_type": "stream",
       "stream": "stdout",
       "text": [
        "no Python documentation found for 'quit()'\n",
        "\n"
       ]
      }
     ],
     "prompt_number": "*"
    },
    {
     "cell_type": "code",
     "collapsed": false,
     "input": [
      "import math"
     ],
     "language": "python",
     "metadata": {},
     "outputs": [],
     "prompt_number": "*"
    },
    {
     "cell_type": "code",
     "collapsed": false,
     "input": [
      "math.pi"
     ],
     "language": "python",
     "metadata": {},
     "outputs": [
      {
       "ename": "NameError",
       "evalue": "name 'math' is not defined",
       "output_type": "pyerr",
       "traceback": [
        "\u001b[1;31m---------------------------------------------------------------------------\u001b[0m\n\u001b[1;31mNameError\u001b[0m                                 Traceback (most recent call last)",
        "\u001b[1;32m<ipython-input-1-9ee7c101b273>\u001b[0m in \u001b[0;36m<module>\u001b[1;34m()\u001b[0m\n\u001b[1;32m----> 1\u001b[1;33m \u001b[0mmath\u001b[0m\u001b[1;33m.\u001b[0m\u001b[0mpi\u001b[0m\u001b[1;33m\u001b[0m\u001b[0m\n\u001b[0m",
        "\u001b[1;31mNameError\u001b[0m: name 'math' is not defined"
       ]
      }
     ],
     "prompt_number": 1
    },
    {
     "cell_type": "code",
     "collapsed": false,
     "input": [
      "import math"
     ],
     "language": "python",
     "metadata": {},
     "outputs": [],
     "prompt_number": 3
    },
    {
     "cell_type": "code",
     "collapsed": false,
     "input": [
      "math.pi"
     ],
     "language": "python",
     "metadata": {},
     "outputs": [
      {
       "metadata": {},
       "output_type": "pyout",
       "prompt_number": 3,
       "text": [
        "3.141592653589793"
       ]
      }
     ],
     "prompt_number": 3
    },
    {
     "cell_type": "code",
     "collapsed": false,
     "input": [
      "math.sqrt(210.25)"
     ],
     "language": "python",
     "metadata": {},
     "outputs": [
      {
       "metadata": {},
       "output_type": "pyout",
       "prompt_number": 6,
       "text": [
        "14.5"
       ]
      }
     ],
     "prompt_number": 6
    },
    {
     "cell_type": "code",
     "collapsed": false,
     "input": [
      "-4 / 14.5"
     ],
     "language": "python",
     "metadata": {},
     "outputs": [
      {
       "metadata": {},
       "output_type": "pyout",
       "prompt_number": 7,
       "text": [
        "-0.27586206896551724"
       ]
      }
     ],
     "prompt_number": 7
    },
    {
     "cell_type": "code",
     "collapsed": false,
     "input": [
      "11.5 / math.sqrt(40)"
     ],
     "language": "python",
     "metadata": {},
     "outputs": [
      {
       "metadata": {},
       "output_type": "pyout",
       "prompt_number": 7,
       "text": [
        "1.818309654596818"
       ]
      }
     ],
     "prompt_number": 7
    },
    {
     "cell_type": "code",
     "collapsed": false,
     "input": [
      "2 +4"
     ],
     "language": "python",
     "metadata": {},
     "outputs": [
      {
       "metadata": {},
       "output_type": "pyout",
       "prompt_number": 8,
       "text": [
        "6"
       ]
      }
     ],
     "prompt_number": 8
    },
    {
     "cell_type": "code",
     "collapsed": false,
     "input": [
      "import math"
     ],
     "language": "python",
     "metadata": {},
     "outputs": [],
     "prompt_number": 9
    },
    {
     "cell_type": "code",
     "collapsed": false,
     "input": [
      "math.sqrt(576)"
     ],
     "language": "python",
     "metadata": {},
     "outputs": [
      {
       "metadata": {},
       "output_type": "pyout",
       "prompt_number": 11,
       "text": [
        "24.0"
       ]
      }
     ],
     "prompt_number": 11
    },
    {
     "cell_type": "code",
     "collapsed": false,
     "input": [
      "import pandas"
     ],
     "language": "python",
     "metadata": {},
     "outputs": [],
     "prompt_number": 12
    },
    {
     "cell_type": "code",
     "collapsed": false,
     "input": [
      "plot(arange(10))"
     ],
     "language": "python",
     "metadata": {},
     "outputs": [
      {
       "ename": "NameError",
       "evalue": "name 'plot' is not defined",
       "output_type": "pyerr",
       "traceback": [
        "\u001b[1;31m---------------------------------------------------------------------------\u001b[0m\n\u001b[1;31mNameError\u001b[0m                                 Traceback (most recent call last)",
        "\u001b[1;32m<ipython-input-16-353c92d67d6b>\u001b[0m in \u001b[0;36m<module>\u001b[1;34m()\u001b[0m\n\u001b[1;32m----> 1\u001b[1;33m \u001b[0mplot\u001b[0m\u001b[1;33m(\u001b[0m\u001b[0marange\u001b[0m\u001b[1;33m(\u001b[0m\u001b[1;36m10\u001b[0m\u001b[1;33m)\u001b[0m\u001b[1;33m)\u001b[0m\u001b[1;33m\u001b[0m\u001b[0m\n\u001b[0m",
        "\u001b[1;31mNameError\u001b[0m: name 'plot' is not defined"
       ]
      }
     ],
     "prompt_number": 16
    },
    {
     "cell_type": "code",
     "collapsed": false,
     "input": [
      "import matplotlib"
     ],
     "language": "python",
     "metadata": {},
     "outputs": [],
     "prompt_number": 14
    },
    {
     "cell_type": "code",
     "collapsed": false,
     "input": [
      "plot(arange(10))"
     ],
     "language": "python",
     "metadata": {},
     "outputs": [
      {
       "ename": "NameError",
       "evalue": "name 'plot' is not defined",
       "output_type": "pyerr",
       "traceback": [
        "\u001b[1;31m---------------------------------------------------------------------------\u001b[0m\n\u001b[1;31mNameError\u001b[0m                                 Traceback (most recent call last)",
        "\u001b[1;32m<ipython-input-17-353c92d67d6b>\u001b[0m in \u001b[0;36m<module>\u001b[1;34m()\u001b[0m\n\u001b[1;32m----> 1\u001b[1;33m \u001b[0mplot\u001b[0m\u001b[1;33m(\u001b[0m\u001b[0marange\u001b[0m\u001b[1;33m(\u001b[0m\u001b[1;36m10\u001b[0m\u001b[1;33m)\u001b[0m\u001b[1;33m)\u001b[0m\u001b[1;33m\u001b[0m\u001b[0m\n\u001b[0m",
        "\u001b[1;31mNameError\u001b[0m: name 'plot' is not defined"
       ]
      }
     ],
     "prompt_number": 17
    },
    {
     "cell_type": "code",
     "collapsed": false,
     "input": [
      "import matplotlib.pyplot"
     ],
     "language": "python",
     "metadata": {},
     "outputs": [],
     "prompt_number": 19
    },
    {
     "cell_type": "code",
     "collapsed": false,
     "input": [
      "plt(arange(10))"
     ],
     "language": "python",
     "metadata": {},
     "outputs": [
      {
       "ename": "NameError",
       "evalue": "name 'arange' is not defined",
       "output_type": "pyerr",
       "traceback": [
        "\u001b[1;31m---------------------------------------------------------------------------\u001b[0m\n\u001b[1;31mNameError\u001b[0m                                 Traceback (most recent call last)",
        "\u001b[1;32m<ipython-input-22-1a5bde690cab>\u001b[0m in \u001b[0;36m<module>\u001b[1;34m()\u001b[0m\n\u001b[1;32m----> 1\u001b[1;33m \u001b[0mplt\u001b[0m\u001b[1;33m(\u001b[0m\u001b[0marange\u001b[0m\u001b[1;33m(\u001b[0m\u001b[1;36m10\u001b[0m\u001b[1;33m)\u001b[0m\u001b[1;33m)\u001b[0m\u001b[1;33m\u001b[0m\u001b[0m\n\u001b[0m",
        "\u001b[1;31mNameError\u001b[0m: name 'arange' is not defined"
       ]
      }
     ],
     "prompt_number": 22
    },
    {
     "cell_type": "code",
     "collapsed": false,
     "input": [
      "import numpy"
     ],
     "language": "python",
     "metadata": {},
     "outputs": [],
     "prompt_number": 21
    },
    {
     "cell_type": "code",
     "collapsed": false,
     "input": [
      "plt(arange(10))"
     ],
     "language": "python",
     "metadata": {},
     "outputs": [
      {
       "ename": "NameError",
       "evalue": "name 'arange' is not defined",
       "output_type": "pyerr",
       "traceback": [
        "\u001b[1;31m---------------------------------------------------------------------------\u001b[0m\n\u001b[1;31mNameError\u001b[0m                                 Traceback (most recent call last)",
        "\u001b[1;32m<ipython-input-23-1a5bde690cab>\u001b[0m in \u001b[0;36m<module>\u001b[1;34m()\u001b[0m\n\u001b[1;32m----> 1\u001b[1;33m \u001b[0mplt\u001b[0m\u001b[1;33m(\u001b[0m\u001b[0marange\u001b[0m\u001b[1;33m(\u001b[0m\u001b[1;36m10\u001b[0m\u001b[1;33m)\u001b[0m\u001b[1;33m)\u001b[0m\u001b[1;33m\u001b[0m\u001b[0m\n\u001b[0m",
        "\u001b[1;31mNameError\u001b[0m: name 'arange' is not defined"
       ]
      }
     ],
     "prompt_number": 23
    },
    {
     "cell_type": "code",
     "collapsed": false,
     "input": [
      "numpy.arange(10)"
     ],
     "language": "python",
     "metadata": {},
     "outputs": [
      {
       "metadata": {},
       "output_type": "pyout",
       "prompt_number": 24,
       "text": [
        "array([0, 1, 2, 3, 4, 5, 6, 7, 8, 9])"
       ]
      }
     ],
     "prompt_number": 24
    },
    {
     "cell_type": "code",
     "collapsed": false,
     "input": [
      "matplotlib.pyplot.plot(numpy.arange(10))"
     ],
     "language": "python",
     "metadata": {},
     "outputs": [
      {
       "metadata": {},
       "output_type": "pyout",
       "prompt_number": 25,
       "text": [
        "[<matplotlib.lines.Line2D at 0xbfdb080>]"
       ]
      }
     ],
     "prompt_number": 25
    },
    {
     "cell_type": "code",
     "collapsed": false,
     "input": [
      "%matplotlib inline"
     ],
     "language": "python",
     "metadata": {},
     "outputs": [],
     "prompt_number": 26
    },
    {
     "cell_type": "code",
     "collapsed": false,
     "input": [
      "mmatplotlib.pyplot.plot(numpy.arange(10))"
     ],
     "language": "python",
     "metadata": {},
     "outputs": [
      {
       "metadata": {},
       "output_type": "pyout",
       "prompt_number": 27,
       "text": [
        "[<matplotlib.lines.Line2D at 0xbfd21d0>]"
       ]
      },
      {
       "metadata": {},
       "output_type": "display_data",
       "png": "[encoded data removed]",
       "text": [
        "<matplotlib.figure.Figure at 0xbfdbba8>"
       ]
      }
     ],
     "prompt_number": 27
    },
    {
     "cell_type": "code",
     "collapsed": false,
     "input": [
      "isinstance(7,int)"
     ],
     "language": "python",
     "metadata": {},
     "outputs": [
      {
       "metadata": {},
       "output_type": "pyout",
       "prompt_number": 28,
       "text": [
        "True"
       ]
      }
     ],
     "prompt_number": 28
    },
    {
     "cell_type": "code",
     "collapsed": false,
     "input": [
      "2**3"
     ],
     "language": "python",
     "metadata": {},
     "outputs": [
      {
       "metadata": {},
       "output_type": "pyout",
       "prompt_number": 55,
       "text": [
        "8"
       ]
      }
     ],
     "prompt_number": 55
    },
    {
     "cell_type": "code",
     "collapsed": false,
     "input": [
      "d = [3,4,5]"
     ],
     "language": "python",
     "metadata": {},
     "outputs": [],
     "prompt_number": 1
    },
    {
     "cell_type": "code",
     "collapsed": false,
     "input": [
      "d?"
     ],
     "language": "python",
     "metadata": {},
     "outputs": [],
     "prompt_number": 4
    },
    {
     "cell_type": "code",
     "collapsed": false,
     "input": [
      "%quickref"
     ],
     "language": "python",
     "metadata": {},
     "outputs": [],
     "prompt_number": 5
    },
    {
     "cell_type": "code",
     "collapsed": false,
     "input": [
      "_i5"
     ],
     "language": "python",
     "metadata": {},
     "outputs": [
      {
       "metadata": {},
       "output_type": "pyout",
       "prompt_number": 7,
       "text": [
        "u'%quickref'"
       ]
      }
     ],
     "prompt_number": 7
    },
    {
     "cell_type": "code",
     "collapsed": false,
     "input": [
      "%pwd"
     ],
     "language": "python",
     "metadata": {},
     "outputs": [
      {
       "metadata": {},
       "output_type": "pyout",
       "prompt_number": 8,
       "text": [
        "u'C:\\\\Users\\\\Manuel\\\\Documents\\\\IPython Notebooks'"
       ]
      }
     ],
     "prompt_number": 8
    },
    {
     "cell_type": "code",
     "collapsed": false,
     "input": [
      "!calc"
     ],
     "language": "python",
     "metadata": {},
     "outputs": [],
     "prompt_number": 9
    },
    {
     "cell_type": "code",
     "collapsed": false,
     "input": [],
     "language": "python",
     "metadata": {},
     "outputs": []
    }
   ],
   "metadata": {}
  }
 ]
}