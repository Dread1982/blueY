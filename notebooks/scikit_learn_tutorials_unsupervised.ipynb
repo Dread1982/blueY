{
 "metadata": {
  "name": "",
  "signature": "sha256:0320ee27070bb1797af8cc8e0a1c57cab1645ea3b1c0091f0e34b608f32969bd"
 },
 "nbformat": 3,
 "nbformat_minor": 0,
 "worksheets": [
  {
   "cells": [
    {
     "cell_type": "code",
     "collapsed": false,
     "input": [
      "from sklearn import cluster, datasets\n",
      "iris = datasets.load_iris()\n",
      "X_iris = iris.data\n",
      "y_iris = iris.target\n",
      "\n",
      "k_means = cluster.KMeans(n_clusters=3)\n",
      "k_means.fit(X_iris) \n",
      "\n",
      "print(k_means.labels_[::10])\n",
      "\n",
      "print(y_iris[::10])"
     ],
     "language": "python",
     "metadata": {},
     "outputs": [
      {
       "output_type": "stream",
       "stream": "stdout",
       "text": [
        "[1 1 1 1 1 0 0 0 0 0 2 2 2 2 2]\n",
        "[0 0 0 0 0 1 1 1 1 1 2 2 2 2 2]\n"
       ]
      }
     ],
     "prompt_number": 1
    },
    {
     "cell_type": "code",
     "collapsed": false,
     "input": [
      "import numpy as np"
     ],
     "language": "python",
     "metadata": {},
     "outputs": [],
     "prompt_number": 14
    },
    {
     "cell_type": "code",
     "collapsed": false,
     "input": [
      "import scipy as sp\n",
      "try:\n",
      "   lena = sp.lena()\n",
      "except AttributeError:\n",
      "   from scipy import misc\n",
      "   lena = misc.lena()\n",
      "X = lena.reshape((-1, 1)) # We need an (n_sample, n_feature) array\n",
      "k_means = cluster.KMeans(n_clusters=5, n_init=1)\n",
      "k_means.fit(X) \n",
      "\n",
      "values = k_means.cluster_centers_.squeeze()\n",
      "labels = k_means.labels_\n",
      "lena_compressed = np.choose(labels, values)\n",
      "lena_compressed.shape = lena.shape"
     ],
     "language": "python",
     "metadata": {},
     "outputs": [],
     "prompt_number": 16
    },
    {
     "cell_type": "code",
     "collapsed": false,
     "input": [
      "import time"
     ],
     "language": "python",
     "metadata": {},
     "outputs": [],
     "prompt_number": 18
    },
    {
     "cell_type": "code",
     "collapsed": false,
     "input": [
      "from sklearn.feature_extraction.image import grid_to_graph\n",
      "from sklearn.cluster import AgglomerativeClustering\n",
      "\n",
      "###############################################################################\n",
      "# Generate data\n",
      "lena = sp.misc.lena()\n",
      "# Downsample the image by a factor of 4\n",
      "lena = lena[::2, ::2] + lena[1::2, ::2] + lena[::2, 1::2] + lena[1::2, 1::2]\n",
      "X = np.reshape(lena, (-1, 1))\n",
      "\n",
      "###############################################################################\n",
      "# Define the structure A of the data. Pixels connected to their neighbors.\n",
      "connectivity = grid_to_graph(*lena.shape)\n",
      "\n",
      "###############################################################################\n",
      "# Compute clustering\n",
      "print(\"Compute structured hierarchical clustering...\")\n",
      "st = time.time()\n",
      "n_clusters = 15  # number of regions\n",
      "ward = AgglomerativeClustering(n_clusters=n_clusters,\n",
      "        linkage='ward', connectivity=connectivity).fit(X)\n",
      "label = np.reshape(ward.labels_, lena.shape)\n",
      "print(\"Elapsed time: \", time.time() - st)\n",
      "print(\"Number of pixels: \", label.size)\n",
      "print(\"Number of clusters: \", np.unique(label).size)"
     ],
     "language": "python",
     "metadata": {},
     "outputs": [
      {
       "output_type": "stream",
       "stream": "stdout",
       "text": [
        "Compute structured hierarchical clustering...\n",
        "('Elapsed time: ', 6.7115561962127686)"
       ]
      },
      {
       "output_type": "stream",
       "stream": "stdout",
       "text": [
        "\n",
        "('Number of pixels: ', 65536)\n",
        "('Number of clusters: ', 15)\n"
       ]
      }
     ],
     "prompt_number": 19
    },
    {
     "cell_type": "code",
     "collapsed": false,
     "input": [
      "digits = datasets.load_digits()\n",
      "images = digits.images\n",
      "X = np.reshape(images, (len(images), -1))\n",
      "connectivity = grid_to_graph(*images[0].shape)\n",
      "\n",
      "agglo = cluster.FeatureAgglomeration(connectivity=connectivity,\n",
      "                                     n_clusters=32)\n",
      "agglo.fit(X) \n",
      "\n",
      "X_reduced = agglo.transform(X)\n",
      "\n",
      "X_approx = agglo.inverse_transform(X_reduced)\n",
      "images_approx = np.reshape(X_approx, images.shape)"
     ],
     "language": "python",
     "metadata": {},
     "outputs": [],
     "prompt_number": 20
    },
    {
     "cell_type": "code",
     "collapsed": false,
     "input": [
      "# Create a signal with only 2 useful dimensions\n",
      "x1 = np.random.normal(size=100)\n",
      "x2 = np.random.normal(size=100)\n",
      "x3 = x1 + x2\n",
      "X = np.c_[x1, x2, x3]\n",
      "\n",
      "from sklearn import decomposition\n",
      "pca = decomposition.PCA()\n",
      "pca.fit(X)\n",
      "\n",
      "print(pca.explained_variance_)  \n",
      "\n",
      "\n",
      "# As we can see, only the 2 first components are useful\n",
      "pca.n_components = 2\n",
      "X_reduced = pca.fit_transform(X)\n",
      "X_reduced.shape"
     ],
     "language": "python",
     "metadata": {},
     "outputs": [
      {
       "output_type": "stream",
       "stream": "stdout",
       "text": [
        "[  2.52342799e+00   1.06851716e+00   1.40613590e-31]\n"
       ]
      },
      {
       "metadata": {},
       "output_type": "pyout",
       "prompt_number": 21,
       "text": [
        "(100, 2)"
       ]
      }
     ],
     "prompt_number": 21
    },
    {
     "cell_type": "code",
     "collapsed": false,
     "input": [
      "# Generate sample data\n",
      "time = np.linspace(0, 10, 2000)\n",
      "s1 = np.sin(2 * time)  # Signal 1 : sinusoidal signal\n",
      "s2 = np.sign(np.sin(3 * time))  # Signal 2 : square signal\n",
      "S = np.c_[s1, s2]\n",
      "S += 0.2 * np.random.normal(size=S.shape)  # Add noise\n",
      "S /= S.std(axis=0)  # Standardize data\n",
      "# Mix data\n",
      "A = np.array([[1, 1], [0.5, 2]])  # Mixing matrix\n",
      "X = np.dot(S, A.T)  # Generate observations\n",
      "\n",
      "# Compute ICA\n",
      "ica = decomposition.FastICA()\n",
      "S_ = ica.fit_transform(X)  # Get the estimated sources\n",
      "A_ = ica.mixing_.T\n",
      "np.allclose(X,  np.dot(S_, A_) + ica.mean_)"
     ],
     "language": "python",
     "metadata": {},
     "outputs": [
      {
       "metadata": {},
       "output_type": "pyout",
       "prompt_number": 22,
       "text": [
        "True"
       ]
      }
     ],
     "prompt_number": 22
    },
    {
     "cell_type": "code",
     "collapsed": false,
     "input": [],
     "language": "python",
     "metadata": {},
     "outputs": []
    }
   ],
   "metadata": {}
  }
 ]
}